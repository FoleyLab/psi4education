{
 "cells": [
  {
   "cell_type": "code",
   "execution_count": 1,
   "id": "4b69a65c",
   "metadata": {},
   "outputs": [],
   "source": [
    "\"\"\"MgH+ Polaritonic Potential Energy Surfaces\"\"\"\n",
    "\n",
    "__authors__ = [\"Jonathan J. Foley\"]\n",
    "__email__   = [\"jfoley19@uncc.edu\"]\n",
    "__credits__ = [\"Jonathan J. Foley\"]\n",
    "__copyright__ = \"(c) 2008-2020, The Psi4Education Developers\"\n",
    "__license__   = \"BSD-3-Clause\"\n",
    "__date__      = \"2021-02-11\""
   ]
  },
  {
   "cell_type": "code",
   "execution_count": 2,
   "id": "135b7d62",
   "metadata": {},
   "outputs": [],
   "source": [
    "### Import libraries to be used throughout\n",
    "# basic psi4 library\n",
    "import psi4\n",
    "# numpy\n",
    "import numpy as np\n",
    "# scipy\n",
    "from scipy.interpolate import InterpolatedUnivariateSpline\n",
    "# linear algebra package from numpy\n",
    "from numpy import linalg as LA\n",
    "# time-dependent scf library from psi4 for computing excited states and transition dipole moments\n",
    "from psi4.driver.procrouting.response.scf_response import tdscf_excitations\n",
    "from matplotlib import pyplot as plt"
   ]
  },
  {
   "cell_type": "code",
   "execution_count": null,
   "id": "fa2627ec",
   "metadata": {},
   "outputs": [],
   "source": []
  }
 ],
 "metadata": {
  "kernelspec": {
   "display_name": "Python 3 (ipykernel)",
   "language": "python",
   "name": "python3"
  },
  "language_info": {
   "codemirror_mode": {
    "name": "ipython",
    "version": 3
   },
   "file_extension": ".py",
   "mimetype": "text/x-python",
   "name": "python",
   "nbconvert_exporter": "python",
   "pygments_lexer": "ipython3",
   "version": "3.9.15"
  }
 },
 "nbformat": 4,
 "nbformat_minor": 5
}
