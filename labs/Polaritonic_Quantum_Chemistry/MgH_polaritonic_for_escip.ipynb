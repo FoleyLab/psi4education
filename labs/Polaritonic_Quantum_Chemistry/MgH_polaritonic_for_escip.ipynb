{
 "cells": [
  {
   "cell_type": "code",
   "execution_count": 1,
   "metadata": {},
   "outputs": [],
   "source": [
    "\"\"\"MgH+ Polaritonic Potential Energy Surfaces\"\"\"\n",
    "\n",
    "__authors__ = [\"Jonathan J. Foley\"]\n",
    "__email__   = [\"jfoley19@uncc.edu\"]\n",
    "__credits__ = [\"Jonathan J. Foley\"]\n",
    "__copyright__ = \"(c) 2008-2020, The Psi4Education Developers\"\n",
    "__license__   = \"BSD-3-Clause\"\n",
    "__date__      = \"2021-02-11\""
   ]
  },
  {
   "cell_type": "code",
   "execution_count": 3,
   "metadata": {},
   "outputs": [],
   "source": [
    "### Import libraries to be used throughout\n",
    "# basic psi4 library\n",
    "import psi4\n",
    "# numpy\n",
    "import numpy as np\n",
    "# scipy\n",
    "from scipy.interpolate import InterpolatedUnivariateSpline\n",
    "# linear algebra package from numpy\n",
    "from numpy import linalg as LA\n",
    "# time-dependent scf library from psi4 for computing excited states and transition dipole moments\n",
    "from psi4.driver.procrouting.response.scf_response import tdscf_excitations\n",
    "#from matplotlib import pyplot as plt"
   ]
  },
  {
   "cell_type": "markdown",
   "metadata": {},
   "source": [
    "## Polaritonic chemistry for a simple diatomic molecule strongly interacting with light\n",
    "\n",
    "#### Learning Objectives\n",
    "\n",
    "- Students will be able to define a molecular polariton\n",
    "\n",
    "- Students will be able to explain how forming molecular polaritons can modify chemical structure and reactivity\n",
    "\n",
    "- Students will be able to use quantum chemistry calculations to parameterize a Rabi model Hamiltonian for a molecular polariton\n",
    "\n",
    "- Students will be able to construct polaritonic potential energy surfaces using the Rabi model\n",
    "\n",
    "- Students will be able to test a quantitative relationship between the coupling strength and splitting between polaritonic potential energy surfaces\n",
    "\n",
    "#### Supplementary learning objective\n",
    "\n",
    "- Students will be able to apply the rules of 2nd quantized operators to derive the Rabi Hamiltonian matrix\n",
    "\n",
    "#### Background\n",
    "Nanostructured materials can be designed to strongly confine light down to nanoscale dimensions, which \n",
    "greatly enhances the energy density of light and increases its interaction with molecular excitations.\n",
    "When molecules through their excitations *strongly* interact with light, new quantum states, called polariton states, emerge that have\n",
    "properties of light and of matter.  \n",
    "\n",
    "Consider the image below that shows the MgH+ molecule strongly \n",
    "interacting with a nanoconfined photon trapped between two parallel mirrors (aka a cavity). This cavity \n",
    "confines a photon with electric field $\\vec{E}$ aligned with the transition dipole moment $\\vec{\\mu}_{i\\rightarrow f}$  connecting the ground to first singlet excited state of MgH+.  When the energy of the trapped photon ($\\hbar \\omega$) matches this excitation energy in a particular region of the MgH+ potential energy surface, energy can be \n",
    "rapidly exchanged between the molecular excitation and the cavity.  We can think of this exchange as cylcing between  the molecule absorbing the trapped photon and becoming excited, and relaxing back to the ground-state and emitting the a photon which becomes trapped in the cavity.  When this cycling is rapid, as is the case when the interaction \n",
    "is strong, the cycling of energy makes it impossible to distinguish between the quantum state of the excited molecule and the quantum state of the photon localized in the cavity.  Rather, we think of this situation as a hybrid state that is part light part matter, and we call this state a polariton.  One fascinating feature of molecular polaritons\n",
    "is that their potential energy surfaces may be dramatically different than the potential energy surfaces of their\n",
    "molecular constituents.  Consequently, new and different chemical reactivity may be realized by putting molecules in cavities!  This notebook will explore the reshaping of the potential energy surfaces of the simple diatomic\n",
    "MgH+ by placing it in a cavity.\n",
    "\n",
    "<img src=\"data/MgH_polariton.png\" width=300 height=300 />\n",
    " \n",
    "\n",
    "\n",
    "\n",
    "##### What is a molecular polariton?\n",
    "\n",
    "A *molecular polariton* can be understood as quantum state that mixes the quantum states of a photon and the quantum states of a molecule.  The two criteria for forming a molecular polariton are that\n",
    "\n",
    "1. The photon energy should match the transition energy between molecular quantum states\n",
    "\n",
    "2. The energy scale of the interaction between the photon and the molecular transition should be large compared to dissipation energy scales in the individual molecular and photonic systems\n",
    "\n",
    "\n"
   ]
  },
  {
   "cell_type": "markdown",
   "metadata": {},
   "source": [
    "**Question 1** Let's consider the first criteria for electronic transitions in the MgH+ system.  The the relevant electronic transition (ground to first singlet excited state) energy is on the order of 4 eV.  What photon wavelength can be used to form a molecular polariton with this electronic transition assuming a transition energy of 4 eV?\n",
    "\n",
    "*Answer goes here!* \n",
    "\n",
    "*Hint:* $ E = \\hbar \\omega $ and $ \\lambda = \\frac{2\\pi c}{\\omega} $  "
   ]
  },
  {
   "cell_type": "code",
   "execution_count": 4,
   "metadata": {},
   "outputs": [
    {
     "name": "stdout",
     "output_type": "stream",
     "text": [
      "The photon wavelength is 309.960 nm\n"
     ]
    }
   ],
   "source": [
    "transition_energy = 4.0 # g -> e transition energy in eV\n",
    "\n",
    "hbar_eV_s = 6.582119569e-16 # -> hbar in eV * s\n",
    "\n",
    "c_SI = 299792458 # -> speed of light in m / s\n",
    "\n",
    "m_to_nm = 1e9 # -> conversion between meters and nanometers\n",
    "\n",
    "# ==> Write code to compute wavelength in meters here <==\n",
    "omega_SI = transition_energy / hbar_eV_s\n",
    "\n",
    "lambda_SI = np.pi * 2 * c_SI / omega_SI\n",
    "\n",
    "# ==> Write code to convert wavelength from meters to nanometers here... store in variable lambda_nm <==\n",
    "lambda_nm = lambda_SI * m_to_nm\n",
    "\n",
    "print(f'The photon wavelength is {lambda_nm:.3f} nm')"
   ]
  },
  {
   "cell_type": "markdown",
   "metadata": {},
   "source": [
    "Let's consider the second criteria that the interaction energy scale must be large compared to the dissipation energy scales of the individual molecular and photonic system. Specifically, we have the criteria \n",
    "$$ \\hbar g > \\hbar \\frac{\\gamma_p + \\gamma_m}{4} \\tag{1}$$ \n",
    "where $\\hbar g$ represents the interaction energy scale, $\\hbar \\gamma_p$ represents the dissipation energy scale of the photon and $\\hbar \\gamma_m$ represents the dissipation energy scale of the molecular excitation.  These $\\gamma$ terms represent dissipation rates, and can be interpreted as the inverse of the lifetime of the occupation of the photon in the cavity in the case of $\\gamma_p$ or the inverse of the lifetime of an electronic excitation in the case of $\\gamma_m$.  Typically, $\\gamma_p >> \\gamma_m$ so we will assume that $\\gamma_p + \\gamma_m \\approx \\gamma_p $ for the analysis that follows.\n",
    "\n",
    "We can define $g$ as follows:\n",
    "\n",
    "$$ g = \\sqrt{ \\frac{\\omega}{2}} \\lambda \\cdot \\mu_{ge}, \\tag{2}$$\n",
    "where the fundamental coupling strength $\\lambda$ is defined as \n",
    "$$ \\lambda = \\sqrt{\\frac{1}{\\epsilon_0 V}}, \\tag{3}$$\n",
    "$\\mu_{eg}$ is the transition dipole moment associated with the electronic transition, and \n",
    "$V$ represents the volume of the cavity that confines the photon (and molecule).  Here we can\n",
    "see that for a given value of the transition dipole moment, increasing the confinement of the photon by decreasing $V$ increases the interaction energy scale by increasing the fundamental coupling strength $\\lambda$. \n",
    "\n",
    "**Question 2**\n",
    "If we can assume that (in atomic units) $\\mu_{ge} = 1$, $\\omega = 0.1469$, and $\\gamma_p = 0.0016$, what is the value of $V$ required to satisfy $g = \\frac{\\gamma_p}{4}$? \n",
    "\n",
    "*Answer goes here!* \n",
    "\n",
    "\n",
    "*Hint:* In atomic units, $\\frac{1}{\\epsilon_0} = 4 \\pi$."
   ]
  },
  {
   "cell_type": "code",
   "execution_count": 5,
   "metadata": {},
   "outputs": [
    {
     "name": "stdout",
     "output_type": "stream",
     "text": [
      "The cavity volume is 853.982 nm^3\n"
     ]
    }
   ],
   "source": [
    "mu_ge_au = 1 # -> transition dipole moment in atomic units \n",
    "\n",
    "gamma_p_au = 0.0016 # -> photon dissipation rate in atomic units\n",
    "\n",
    "omega_au = 0.1469 # -> photon frequency in atomic units\n",
    "\n",
    "au_to_nm = 0.0529 # -> conversion factor for atomic units of length to nanometers\n",
    "\n",
    "# ==> Write code to compute V in atomic units here <== \n",
    "V_au = 4 * np.pi / (gamma_p_au / (4 * mu_ge_au * np.sqrt(omega_au / 2) ) ) ** 2\n",
    "\n",
    "# ==> Convert volume in atomic units to volume in nm^3 <==\n",
    "V_nm = V_au * au_to_nm ** 3\n",
    "\n",
    "print(f'The cavity volume is {V_nm:.3f} nm^3')"
   ]
  },
  {
   "cell_type": "markdown",
   "metadata": {},
   "source": [
    "#### Model system\n",
    "We will consider the diatomic cation MgH+ in a cavity chosen such that it can trap a photon with a \n",
    "frequency of $\\hbar \\omega = 4.3$ eV. \n",
    "We will compute the singlet ground state and first singlet excited state potential energy surfaces along the\n",
    "Mg-H+ stretch coordinate $R$ using density functional theory (DFT) and time-dependent density functional theory (TDDFT), respectively.  DFT provides an efficient method for computing the ground-state energy of a quantum mechanical system using the electron density (rather than the wavefunction) as the primary variable, and TDDFT provides an efficient method for estimating the energies and properties of excited-states starting from the DFT ground state.    We denote the ground \n",
    "state ket as $|g\\rangle$ with an associated energy eigenvalue $E_g(R)$, and the excited-state $|e\\rangle$\n",
    "with associated energy eigenvalue $E_e(R)$ where $R$ is the bondlength.  The transition dipole\n",
    "moment between $|g\\rangle$ and $|e\\rangle$ will also be computed using TDDFT, yielding $\\mu_{ge}(R)$. \n",
    "While\n",
    "the transition dipole moment and the electric field are vector quantities, in this case $\\mu_{ge}(R)$ is oriented along the internuclear coordinate ($R$), and so for simplicity we consider an electric field oriented soley along\n",
    "$R$ as well and treat both quantities as scalars.\n",
    "\n",
    "We will consider two quantum states for the photon - no photon in the cavity, denoted by $|0\\rangle$, and 1 photon in the cavity $|1\\rangle$.  The photon has an energy of $\\hbar \\omega$. At the same time, we will allow for the molecule to be in its electronic ground state $|g\\rangle$ or its first electronic excited state $|e\\rangle$.  \n",
    "This leads to the following basis states for the composite system:\n",
    "\n",
    "$|g,0\\rangle \\rightarrow$ The molecule is in the ground state and there is no photon in the cavity.\n",
    "\n",
    "$|g,1\\rangle \\rightarrow$ The molecule is in the ground state and there is one photon in the cavity.\n",
    "\n",
    "$|e,0\\rangle \\rightarrow$ The molecule is in its first electronic excited state and there is no photon in the cavity.\n",
    "\n",
    "We will neglect the $|e,1\\rangle$ state for simplicity, and if desired, it can be shown that its inclusion does not impact the results.\n",
    "\n",
    "In this 3-state basis, we will model this system with a generalized Rabi Hamiltonian that can be written as:\n",
    "\\begin{equation}\n",
    "    {\\bf H} =\n",
    "    \\begin{pmatrix}\n",
    "    E_g(R)  & 0 & 0 \\\\\n",
    "    0 & E_g(R) + \\hbar \\omega &  \\lambda \\cdot \\mu_{ge}(R) \\\\\n",
    "    0 &  \\lambda \\cdot \\mu_{ge}(R) & E_e(R)\n",
    "    \\end{pmatrix}. \\tag{4}\n",
    "\\end{equation}\n",
    "where $E_g(R)$ denotes the ground-state potential energy surface, i.e. the energy of state $|g\\rangle$ at bondlength $R$, $E_e(R)$ denotes the potential energy surface of the first excited state (energy of state $|e\\rangle$ at bondlength $R$), and $\\mu_{ge}(R)$ denotes the transition dipole moment between state $|g\\rangle$ and $|e\\rangle$.  Applying second quantized operators to derive this Hamiltonian matrix is supplementary learning outcome; interested students are directed to [Derivation](#Derivation) cell for the derivation.\n",
    "\n",
    "##### Procedure\n",
    "We will build and diagonalize this matrix across a range of bondlength values ($R$), and the \n",
    "resulting eigenvalues will comprise the polaritonic potential energy surfaces.  The resulting \n",
    "eigenvectors will comprise the polaritonic energy eigenstates.  We will utilize the `psi4` package to compute\n",
    "$E_g(R)$, $E_e(R)$, and $\\mu_{ge}(R)$ to be used in the model Hamiltonian above.\n",
    "\n",
    "We will import psi4 to have access to the DFT engine for computation of ground-state properties, and the scf_response library of psi4 to have access to TDDFT methods for obtaining excited-state properties.  We will also import numpy and scipy libraries to help with constructing and diagonalizing the Rabi Hamiltonian."
   ]
  },
  {
   "cell_type": "markdown",
   "metadata": {},
   "source": [
    "To compute $E_g(R)$, $E_e(R)$, and $\\mu_{ge}(R)$, we will use DFT/TDDFT at the B3LYP/cc-pVDZ level for 25 different geometries from $R = 1.1$ to $R = 3.5$ Angstroms.\n",
    "\n",
    "The scan of different $R$ values uses similar syntax as has been demonstrated in other Psi4Education labs, see for example the lab on the [calculation of spectroscopic constants](https://github.com/Psi4Education/psi4education/blob/master/labs/spectroscopic_constants/spectroscopic_constants_student.ipynb).\n",
    "\n",
    "Extracting the excitation energy and the transition dipole moment requires that we run the `tdscf_excitations` method from the psi4 package, which we have explicitly imported.  This method returns a dictionary containing different information about the excited-state energies and properties. \n",
    "\n",
    "##### The tdscf_excitations method and dictionary\n",
    "The syntax for computing singlet excited-state properties with the tdscf_excitations method is as follows:\n",
    "\n",
    "`res = tdscf_excitations(wfn, states=n, triplets='None')`\n",
    "\n",
    "where `wfn` is the wavefunction object that can be obtained from a prior ground-state calculation, `states=n` specifies the number `n` of excited-states you wish to compute, `triplets='None'` specifies that only singlet exited states will be obtained, and `res` is the name specified for the nested dictionary that the method returns to store the excited-state information.  \n",
    "\n",
    "Dictionaries are used to store data values in key:value pairs, and nested dictionaries have multiple dictionaries inside a dictionary.  This construction is useful for the excited-state calculations because there are many excited states, each having properties that can be specified by the same key.   \n",
    "\n",
    "We are interested in two keys for our calculation.\n",
    "The key `\"EXCITATION ENERGY\"` can be used to access the excitation energy from the ground state to a given excited state obtained from the calculation, and the key `\"ELECTRIC DIPOLE TRANSITION MOMENT (LEN)\"` can be used to access the transition dipole moments associated with the computed states (ground-to-excited state only).  Because we are interested in these properties only for the first excited state, we will access them as follows:\n",
    "\n",
    "`res[0][\"EXCITATION ENERGY\"]`: $E_e(R) - E_g(R)$\n",
    "\n",
    "`res[0][\"ELECTRIC DIPOLE TRANSITION MOMENT (LEN)\"]`: $\\mu_{ge}(R)$.\n",
    "\n",
    "Information about the second excited-state would be obtained from keys associated with `res[1]['KEY']`, etc.\n",
    "\n",
    "To see all of the keys of the nested dictionary called `res`, you can type `res[0].keys()`.   For a more general discussion of nested dictionaries, see [here](https://www.programiz.com/python-programming/nested-dictionary).\n"
   ]
  },
  {
   "cell_type": "code",
   "execution_count": 6,
   "metadata": {},
   "outputs": [],
   "source": [
    "# set basis\n",
    "psi4.set_options({\n",
    "    'basis':'cc-pVDZ'\n",
    "})\n",
    "\n",
    "# set the number of electronic states... this is the ground state + n_states more\n",
    "# we will get 1 excited-state\n",
    "n_states = 1\n",
    "\n",
    "# set the number of bond lengths to compute the stretch along\n",
    "n_geoms = 25\n",
    "\n",
    "# initialize geometry list\n",
    "geoms = []\n",
    "\n",
    "# initialize energy list... note\n",
    "# there will be the ground state energy + n_states excited state energies\n",
    "Es = np.zeros((n_states+1, n_geoms))\n",
    "\n",
    "# initialize z-component of transition dipole list\n",
    "mu_z = np.zeros((n_states, n_geoms))\n",
    "\n",
    "# generate bond lengths\n",
    "rs = []\n",
    "for i in range(0,n_geoms):\n",
    "    rs.append(1.1 + i*0.1)\n",
    "\n",
    "# loop over bond lengths\n",
    "ctr = 0\n",
    "for i in rs:\n",
    "    # generate the MgH+ molecule using a z-matrix and set the Mg-H+ bond length\n",
    "    mol = psi4.geometry(\"\"\"\n",
    "    Mg\n",
    "    H 1 \"\"\" + str(i) + \"\"\"\n",
    "    symmetry c1\n",
    "    1 1\n",
    "    \"\"\")\n",
    "    # save the geometry\n",
    "    geoms.append(mol.geometry().to_array())\n",
    "    psi4.set_options({\n",
    "    'save_jk': True,\n",
    "    })  \n",
    "   \n",
    "    # calculate and save the ground-state energy and wavefunction\n",
    "    e, wfn = psi4.energy(\"b3lyp/cc-pVDZ\", return_wfn=True, molecule=mol)\n",
    "    \n",
    "    # calculate the excited-state energies and save them to a dictionary called 'res'\n",
    "    # !!! Insert a markdown section that explains the syntax of the tdscf_excitations method\n",
    "    #     pay particular attention to explaining the dictionary because it is not\n",
    "    #     a requisite python skill...\n",
    "    #     also tell the user how to see all the keys by printing the entire dictionary!\n",
    "    res = tdscf_excitations(wfn, states=n_states, triplets = \"NONE\")\n",
    "    \n",
    "    # parse the excitation energies from the 'res' dictionary \n",
    "    delta_e = [r[\"EXCITATION ENERGY\"] for r in res]\n",
    "    \n",
    "    # parse the transition dipole moment from the 'res' dictionary\n",
    "    mu = [r[\"ELECTRIC DIPOLE TRANSITION MOMENT (LEN)\"] for r in res]\n",
    "    Es[0,ctr] = e\n",
    "    \n",
    "    # store the results to the respective arrays\n",
    "    for j in range(0, n_states):\n",
    "        Es[j+1,ctr] = e + delta_e[j]\n",
    "        # !!! explain we only want the z-component which is index 2!\n",
    "        mu_z[j,ctr] = mu[j][2]\n",
    "    # print if you want to\n",
    "    # print(i, Es[:,ctr])\n",
    "    \n",
    "    # increment the counter!\n",
    "    ctr += 1"
   ]
  },
  {
   "cell_type": "code",
   "execution_count": 7,
   "metadata": {},
   "outputs": [
    {
     "name": "stdout",
     "output_type": "stream",
     "text": [
      "dict_keys(['EXCITATION ENERGY', 'ELECTRIC DIPOLE TRANSITION MOMENT (LEN)', 'OSCILLATOR STRENGTH (LEN)', 'ELECTRIC DIPOLE TRANSITION MOMENT (VEL)', 'OSCILLATOR STRENGTH (VEL)', 'MAGNETIC DIPOLE TRANSITION MOMENT', 'ROTATORY STRENGTH (LEN)', 'ROTATORY STRENGTH (VEL)', 'SYMMETRY', 'SPIN', 'RIGHT EIGENVECTOR ALPHA', 'LEFT EIGENVECTOR ALPHA', 'RIGHT EIGENVECTOR BETA', 'LEFT EIGENVECTOR BETA'])\n"
     ]
    }
   ],
   "source": [
    "# This will print all of the keys associated with the `res` dictionary.\n",
    "print(res[0].keys())"
   ]
  },
  {
   "cell_type": "markdown",
   "metadata": {},
   "source": [
    "#### Building the Rabi model Hamiltonian \n",
    "\n",
    "1. Fit each surface to a spline\n",
    "\n",
    "2. Define functions that build the Rabi Hamiltonian and extract the eigenstates from them.  For reasons of convenience with the plotting widget, we will create two almost identical functions that extract the lower-polariton and upper-polariton roots separately. \n",
    "\n",
    "3. Define a widget that allows the display of polaritonic potential energy surfaces with variable values of the coupling strength $g$.  "
   ]
  },
  {
   "cell_type": "markdown",
   "metadata": {},
   "source": [
    "##### Step 1: Fitting a spline\n",
    "We will fit a cubic spline to the data obtained for the ground- and excited-state potential energy surfaces ($E_g(R)$ and $E_e(R)$) obtained from the TDDFT calculations.  A cubic spline is a simple model function of the form $f(R) = a + bR + cR^2 + dR^3$ that allows estimation of the potential energy curves at arbitrary values of $R$ within the finite range scanned by the *ab initio* calculations.  We will do the same for the transition dipole moment, $\\mu_{ge}(R)$.\n",
    "\n",
    "The syntax for generating a cubic spline is as follows:\n",
    "\n",
    "`spline = InterpolatedUnivariateSpline(x_values, y_values, k=3)`\n",
    "\n",
    "where `x_values` is a list or numpy array containing the independent variable data, `y_values` is a list or numpy array containing the corresponding dependent variable data, `k=3` indicates a cubic spline, and `spline` is the spline object returned by the `InterpolatedUnivariateSpline` method.  \n",
    "\n",
    "Recall that the independent variable data are the bondlengths $R$ stored in the numpy array `rs`, and the dependent variable data are the ground- and excited-state potential energy surface data stored in the `Es` array.  The transition dipole moment data is stored in the array `mu_z`. \n",
    "\n",
    "*Note on units* The bondlength data is stored in Angstroms, whereas the energies and transition dipole moments are all stored in atomic units.\n",
    "\n",
    "**Question 3**  Fit a spline called `Eg_spline` to the ground-state potential energy surface data, a spline called `Ee_spline` to the excited-state potential energy surface data, and a spline called `mu_spline` to the transition dipole moment data.\n"
   ]
  },
  {
   "cell_type": "code",
   "execution_count": 9,
   "metadata": {},
   "outputs": [],
   "source": [
    "# fit all surfaces to a spline\n",
    "# ==> Code to fit splines goes here! <== #\n",
    "Eg_spline = InterpolatedUnivariateSpline(rs, Es[0,:], k=3)\n",
    "Ee_spline = InterpolatedUnivariateSpline(rs, Es[1,:], k=3)\n",
    "mu_spline = InterpolatedUnivariateSpline(rs, np.abs(mu_z[0,:]), k=3 )"
   ]
  },
  {
   "cell_type": "markdown",
   "metadata": {},
   "source": [
    "Once the splines have been defined, they can be evaluated at a particular value(s) of $R$ using the following syntax `spline(R)`.  Note if you pass the spline a numpy array of $R$ values, it will return a numpy array of \n",
    "dependent variable values evaluated at each value of the $R$ array.  \n",
    "\n",
    "In the following blocks, add code to evaluate `Eg_spline`, `Ee_spline` and `mu_spline` at $R = 2.5$ Anstroms; store the values to variables named `Eg_val`, `Ee_val`, and `tdm_val` respectively."
   ]
  },
  {
   "cell_type": "code",
   "execution_count": 28,
   "metadata": {},
   "outputs": [],
   "source": [
    "# ==> Code to evaluate Eg_spline, Ee_spline, and mu_spline at R = 2.5 Angstroms goes here! <== #\n",
    "R_val = 2.5\n",
    "\n",
    "Eg_val = Eg_spline(R_val)\n",
    "\n",
    "Ee_val = Ee_spline(R_val)\n",
    "\n",
    "tdm_val = mu_spline(R_val)"
   ]
  },
  {
   "cell_type": "markdown",
   "metadata": {},
   "source": [
    "**Question 4** What is the transition energy in electron volts between the ground and first excited state at $R = 2.5$ Angstroms?  \n",
    "\n",
    "*Answer goes here!* \n",
    "\n",
    "*Hint* The conversion factor between atomic units of energy and electron volts is $27.211 \\frac{{\\rm eV}}{{\\rm atomic \\: unit}}$.  Store the transition energy in a variable called `transition_energy_eV`."
   ]
  },
  {
   "cell_type": "code",
   "execution_count": 31,
   "metadata": {},
   "outputs": [],
   "source": [
    "# conversion factor for au -> eV\n",
    "au_to_eV = 27.211\n",
    "\n",
    "# ==> Code to compute transition energy in atomic units and convert to eV goes here! <== #\n",
    "transition_energy_au = Ee_val - Eg_val\n",
    "transition_energy_eV = transition_energy_au * au_to_eV\n"
   ]
  },
  {
   "cell_type": "markdown",
   "metadata": {},
   "source": [
    "**Checking your results:** The next cell will check the values you obtained from your splines.  We will use an `assert` statement to compare your computed values to the expected values. The `assert` statement will pass if the comparison returns true, and will fail if the comparison returns false.  \n",
    "\n",
    "**If one or more `assert` statements fail, you should go back and check your code in the last few blocks!**  \n",
    "\n",
    "The comparison is performed by the numpy function `isclose()`.  For more information about the `isclose()` function, see [here](https://numpy.org/doc/stable/reference/generated/numpy.isclose.html).  "
   ]
  },
  {
   "cell_type": "code",
   "execution_count": 32,
   "metadata": {},
   "outputs": [],
   "source": [
    "expected_Eg_val = -200.33018284449852\n",
    "expected_Ee_val = -200.18141088127473\n",
    "expected_tdm_val = 2.1837588170011095\n",
    "expected_deltaE_eV = 4.04823389128266\n",
    "\n",
    "assert np.isclose(Eg_val, expected_Eg_val)\n",
    "assert np.isclose(Ee_val, expected_Ee_val)\n",
    "assert np.isclose(tdm_val, expected_tdm_val)\n",
    "assert np.isclose(transition_energy_eV, expected_deltaE_eV)\n"
   ]
  },
  {
   "cell_type": "markdown",
   "metadata": {},
   "source": [
    "##### Step 2: Building the Rabi Hamiltonian\n",
    "\n",
    "Next we will define a function that will build and return the Rabi Hamiltonian (Eq. (4)).  We will pass \n",
    "5 arguments to this function:\n",
    "\n",
    "`lambda_value` : Fundamental coupling strength $\\lambda$ as defined in Eq. (3)\n",
    "\n",
    "`omega_value` : Photon frequency $\\omega$ that appears in the diagonals of Eq. (4)\n",
    "\n",
    "`r_value` : An $R$ value at which the Rabi Hamiltoninan will be evaluated\n",
    "\n",
    "`g_spline` : A spline fit to the ground state potential energy surface as a function of $R$\n",
    "\n",
    "`e_spline` : A spline fit to the excited state potential energy surface as a function of $R$\n",
    "\n",
    "`tdm_spline` : A spline fit to the transition dipole moment surface as a function of $R$\n",
    "\n",
    "A template for this function follows:\n",
    "\n",
    "```\n",
    "def Rabi_Hamiltonian(lambda_value, omega_value, r_value, g_spline, e_spline, tdm_spline):\n",
    "    \"\"\"Function to compute the Rabi Hamiltonian\n",
    "\n",
    "    Arguments\n",
    "    ----------\n",
    "    lambda_value : float\n",
    "        fundamental coupling strength\n",
    "        \n",
    "    omega_value : float\n",
    "        photon energy\n",
    "        \n",
    "    r_value : float\n",
    "        value of the bondlength\n",
    "        \n",
    "    g_spline : scipy spline object\n",
    "        spline that is fit to the ground-state potential energy surface\n",
    "        \n",
    "    e_splien : scipy spline object\n",
    "        spline that is fit to the excited-state potential energy surface\n",
    "        \n",
    "    tdm_spline : scipy spline object\n",
    "        spline that is fit to the transition dipole moment surface\n",
    "        \n",
    "    Returns\n",
    "    -------\n",
    "    H : numpy array\n",
    "        3x3 Rabi Hamiltonian matrix\n",
    "    \"\"\"\n",
    "\n",
    "    # create 3x3 numpy array to store the Rabi Hamiltonian\n",
    "    H = np.zeros((3,3)) \n",
    "    \n",
    "    # ==> Code to compute elements of the Rabi Hamiltonian <== #\n",
    "    \n",
    "    # return the Hamiltonian\n",
    "    return H\n",
    "\n",
    "```"
   ]
  },
  {
   "cell_type": "code",
   "execution_count": 33,
   "metadata": {},
   "outputs": [],
   "source": [
    "def Rabi_Hamiltonian(lambda_value, omega_value, r_value, g_spline, e_spline, tdm_spline):\n",
    "    \"\"\"Function to compute the Rabi Hamiltonian\n",
    "\n",
    "    Arguments\n",
    "    ----------\n",
    "    lambda_value : float\n",
    "        fundamental coupling strength\n",
    "        \n",
    "    omega_value : float\n",
    "        photon energy\n",
    "        \n",
    "    r_value : float\n",
    "        value of the bondlength\n",
    "        \n",
    "    g_spline : scipy spline object\n",
    "        spline that is fit to the ground-state potential energy surface\n",
    "        \n",
    "    e_splien : scipy spline object\n",
    "        spline that is fit to the excited-state potential energy surface\n",
    "        \n",
    "    tdm_spline : scipy spline object\n",
    "        spline that is fit to the transition dipole moment surface\n",
    "        \n",
    "    Returns\n",
    "    -------\n",
    "    H : numpy array\n",
    "        3x3 Rabi Hamiltonian matrix\n",
    "    \"\"\"\n",
    "    \n",
    "    # initialize 3x3 Hamiltonian matrix\n",
    "    H = np.zeros((3,3))\n",
    "    \n",
    "    # diagonal entries\n",
    "    H[0,0] = g_spline(r_value)\n",
    "    H[1,1] = g_spline(r_value) + omega_value\n",
    "    H[2,2] = e_spline(r_value)\n",
    "    \n",
    "    # off-diagonal entries\n",
    "    H[1,2] = lambda_value * tdm_spline(r_value)\n",
    "    H[2,1] = lambda_value * tdm_spline(r_value)\n",
    "    \n",
    "    # return the matrix\n",
    "    return H\n"
   ]
  },
  {
   "cell_type": "markdown",
   "metadata": {},
   "source": [
    "**Question 5** Evaluate the Rabi Hamiltonian with $\\lambda = 0.003$, $R = 2.5$ Angstroms, \n",
    "and $\\omega$ defined such that it matches the transition energy at this bondlength.  Store the resulting\n",
    "matrix to a variable named `H_Rabi`.\n",
    "\n",
    "*Hint:* Your $\\omega$ value should be in atomic units."
   ]
  },
  {
   "cell_type": "code",
   "execution_count": 40,
   "metadata": {},
   "outputs": [],
   "source": [
    "lambda_value = 0.003\n",
    "\n",
    "H_Rabi = Rabi_Hamiltonian(lambda_value, transition_energy_au, R_val, Eg_spline, Ee_spline, mu_spline)"
   ]
  },
  {
   "cell_type": "markdown",
   "metadata": {},
   "source": [
    "**Checking your results:** The next cell will check the Hamiltonian computed in the last block.\n",
    "\n",
    "**If this `assert` statements fail, you should go back and check the code in your Rabi_Hamiltonian function and the values of the arguments you passed to this function!**  "
   ]
  },
  {
   "cell_type": "code",
   "execution_count": 41,
   "metadata": {},
   "outputs": [],
   "source": [
    "expected_H_Rabi = np.array([[-2.00330183e+02,  0.00000000e+00,  0.00000000e+00],\n",
    "                            [ 0.00000000e+00, -2.00181411e+02,  6.55127645e-03],\n",
    "                            [ 0.00000000e+00,  6.55127645e-03, -2.00181411e+02]])\n",
    "\n",
    "assert np.allclose(H_Rabi, expected_H_Rabi)"
   ]
  },
  {
   "cell_type": "markdown",
   "metadata": {},
   "source": [
    "**Step 3: Build the Widget scanning polaritonic potential energy surfaces as a function of $\\lambda$**\n",
    "\n"
   ]
  },
  {
   "cell_type": "markdown",
   "metadata": {},
   "source": [
    "\n",
    "\n",
    "`vals, vecs = LA.eigh(matrix)`\n",
    "\n",
    "where `vals` are the eigenvalues, `vecs` are the eigenvectors, and `matrix` is the Hermitian matrix.\n",
    "\n",
    "The function we will write will take the value of $\\lambda$ and $\\omega$ that define the light-matter coupling and the photon energy, the values of $R$ over which we desire to compute the surfaces, and the three splines that were computed above.  A general template for the function that returns the lower polariton surface follows:\n",
    "\n",
    "```\n",
    "def lp(amplitude, omega, r_vals, g_spline, e_spline, tdm_spline):\n",
    "    H = np.zeros((3,3)) # create 3x3 numpy array to store the Rabi Hamiltonian\n",
    "    lp_vals = np.zeros_like(r_vals) # create a numpy array of zeros the same length as the r_vals array\n",
    "    \n",
    "    # if the light-matter coupling is zero, the lp surface is just the ground-state potential energy surface\n",
    "    \n",
    "    # if the light-matter coupling is non-zero, build the matrix from Eq. 4 and diagonalize it for \n",
    "    # each value of r_val.  Store the lowest eigenvalues in lp_vals and return it\n",
    "```"
   ]
  },
  {
   "cell_type": "code",
   "execution_count": 17,
   "metadata": {},
   "outputs": [],
   "source": [
    "# function to generate the lower polariton surface\n",
    "def lp(amplitude, omega, r_val, g_spline, e_spline, tdm_spline):\n",
    "    H = np.zeros((3,3))\n",
    "    lp_vals = np.zeros_like(r_val)\n",
    "    up_vals = np.zeros_like(r_val)\n",
    "    for i in range(0, len(r_val)):\n",
    "        if amplitude == 0:\n",
    "            lp_vals[i] = g_spline(r_val[i]) + omega\n",
    "            up_vals[i] = e_spline(r_val[i])\n",
    "            \n",
    "        else:\n",
    "            H[0,0] = g_spline(r_val[i])\n",
    "            H[1,1] = g_spline(r_val[i]) + omega\n",
    "            H[1,2] = amplitude * tdm_spline(r_val[i])\n",
    "            H[2,1] = amplitude * tdm_spline(r_val[i])\n",
    "            H[2,2] = e_spline(r_val[i])\n",
    "            vals, vecs = LA.eigh(H)\n",
    "            lp_vals[i] = vals[1]\n",
    "            up_vals[i] = vals[2]\n",
    "            \n",
    "        \n",
    "    return lp_vals, up_vals\n",
    "\n",
    "\n",
    "# function to generate the upper-polariton surface\n",
    "def up(amplitude, omega, r_val, g_spline, e_spline, tdm_spline):\n",
    "    H = np.zeros((3,3))\n",
    "    up_vals = np.zeros_like(r_val)\n",
    "    for i in range(0, len(r_val)):\n",
    "        if amplitude == 0:\n",
    "            up_vals[i] = e_spline(r_val[i])\n",
    "        else:\n",
    "            H[0,0] = g_spline(r_val[i])\n",
    "            H[1,1] = g_spline(r_val[i]) + omega\n",
    "            H[1,2] = amplitude * tdm_spline(r_val[i])\n",
    "            H[2,1] = amplitude * tdm_spline(r_val[i])\n",
    "            H[2,2] = e_spline(r_val[i])\n",
    "            vals, vecs = LA.eigh(H)\n",
    "            up_vals[i] = vals[2]\n",
    "        \n",
    "    return up_vals\n",
    "\n",
    "\n",
    "\n"
   ]
  },
  {
   "cell_type": "code",
   "execution_count": 34,
   "metadata": {},
   "outputs": [
    {
     "name": "stdout",
     "output_type": "stream",
     "text": [
      "0.15802432839660432\n"
     ]
    }
   ],
   "source": [
    "om = 4.3/27.211\n",
    "print(om)\n",
    "\n",
    "#compute_lp, compute_up = lp(0.003, om, rs, Eg_spline, Ee_spline, mu_spline)\n",
    "#compute_up = up(0.003, om, rs, Eg_spline, Ee_spline, mu_spline)\n"
   ]
  },
  {
   "cell_type": "code",
   "execution_count": 19,
   "metadata": {},
   "outputs": [],
   "source": [
    "%matplotlib widget\n",
    "import ipympl\n",
    "import ipywidgets as widgets\n",
    "from IPython.display import display\n",
    "import matplotlib.pyplot as plt"
   ]
  },
  {
   "cell_type": "code",
   "execution_count": 20,
   "metadata": {},
   "outputs": [],
   "source": [
    "# Create a slider widget and a widget to hold the plot.\n",
    "slider = widgets.FloatSlider(description = r'$g$',\n",
    "                            value = 0,\n",
    "                            min = 0,\n",
    "                            max = 5,  \n",
    "                            step = 1)\n",
    "# We can use HTML styles to control the appearance of the widget.\n",
    "plot_widget = widgets.Output(layout = {'width':'100%', 'border': '1px solid black'})"
   ]
  },
  {
   "cell_type": "code",
   "execution_count": 21,
   "metadata": {},
   "outputs": [],
   "source": [
    "\n",
    "# Turn off interactive mode before creating the \n",
    "# plot so it doesn't display too early.\n",
    "plt.ioff() # Turn off interactive mode\n",
    "fig, ax = plt.subplots(constrained_layout = True, figsize=[5,4]);\n",
    "plt.ion() # Turn on interactive mode\n",
    "\n",
    "#line1, = ax.plot(rs, a_sin(slider.value, rs, a_spline));\n",
    "#line2, = ax.plot(rs, b_sin(slider.value, rs, b_spline));\n",
    "compute_lp, compute_up = lp(0.00, om, rs, Eg_spline, Ee_spline, mu_spline)\n",
    "line1, = ax.plot(rs, compute_lp);\n",
    "line2, = ax.plot(rs, compute_up);\n",
    "#line1, = ax.plot(rs, lp(0.00, om, rs, Eg_spline, Ee_spline, mu_spline));\n",
    "#line2, = ax.plot(rs, up(0.00, om, rs, Eg_spline, Ee_spline, mu_spline));\n",
    "ax.set_ylabel(r'$A\\sin(x)$')\n",
    "ax.set_xlabel(r'$x$')\n",
    "\n",
    "# force the figure to display in the plot_widget\n",
    "with plot_widget:\n",
    "    display(fig.canvas)\n"
   ]
  },
  {
   "cell_type": "code",
   "execution_count": 22,
   "metadata": {},
   "outputs": [],
   "source": [
    "# Create a function to re-draw the plot using the value of the slider. It is \n",
    "# faster to change the y-data but you can erase the plot and draw a new one.\n",
    "def update(value):\n",
    "    '''We can use `slider.value` or `value.new` to get the new slider value.'''\n",
    "    with plot_widget:\n",
    "        compute_lp, compute_up = lp(slider.value*0.001, om, rs, Eg_spline, Ee_spline, mu_spline)\n",
    "        line1.set_ydata(compute_lp)\n",
    "        line2.set_ydata(compute_up)\n",
    "        #line1.set_ydata(lp(slider.value*0.001, om, rs, Eg_spline, Ee_spline, mu_spline))\n",
    "        #line2.set_ydata(up(slider.value*0.001, om, rs, Eg_spline, Ee_spline, mu_spline))\n",
    "        fig.canvas.draw()\n",
    "\n",
    "# Set an observer to call `update` whenever the value changes.\n",
    "slider.observe(update)"
   ]
  },
  {
   "cell_type": "code",
   "execution_count": 23,
   "metadata": {},
   "outputs": [
    {
     "data": {
      "application/vnd.jupyter.widget-view+json": {
       "model_id": "806a399051744703a574f9c6b958941e",
       "version_major": 2,
       "version_minor": 0
      },
      "text/plain": [
       "VBox(children=(Output(layout=Layout(border='1px solid black', width='100%'), outputs=({'output_type': 'display…"
      ]
     },
     "metadata": {},
     "output_type": "display_data"
    }
   ],
   "source": [
    "widgets.VBox([plot_widget, slider])"
   ]
  },
  {
   "cell_type": "code",
   "execution_count": null,
   "metadata": {},
   "outputs": [],
   "source": [
    "# conversion from atomic units of field strength \n",
    "# to GV / m as is used in the Figure 3 of \n",
    "# J. Chem. Phys. 153 234304 (2020)\n",
    "Efield_SI_to_au = 5.14220674763e-11\n",
    "\n",
    "# Medium electric field strength from paper JCP paper in SI units\n",
    "E_field_medium = 3e12\n",
    "\n",
    "# electric field in atomic units\n",
    "#E_au = E_field_medium * Efield_SI_to_au\n",
    "E_au = 0.003\n",
    "\n",
    "Htot = np.zeros((3,3))\n",
    "\n",
    "''' Polaritonic Hamiltonian will have the following structure\n",
    "\n",
    "    | E_g(r)               0                        0            |\n",
    "    |            E_g(r) + hbar * omega              E_au*mu(r)   |\n",
    "    | 0                  E_au*mu(r)                   E_e(r)     |\n",
    "    \n",
    "'''\n",
    "\n",
    "pl_1 = np.zeros_like(rs)\n",
    "pl_2 = np.zeros_like(rs)\n",
    "pl_3 = np.zeros_like(rs)\n",
    "for i in range(0,len(rs)):\n",
    "    # H_00 is just E_g\n",
    "    Htot[0,0] = Eg_spline(rs[i])\n",
    "    Htot[1,1] = Eg_spline(rs[i]) + om\n",
    "    Htot[1,2] = E_au * mu_spline(rs[i]) \n",
    "    Htot[2,1] = E_au * mu_spline(rs[i]) \n",
    "    Htot[2,2] = Ee_spline(rs[i])\n",
    "\n",
    "\n",
    "    vals, vecs = LA.eigh(Htot)\n",
    "    pl_1[i] = np.real(vals[0])\n",
    "    pl_2[i] = np.real(vals[1])\n",
    "    pl_3[i] = np.real(vals[2])\n",
    "\n",
    "\n",
    "\n"
   ]
  },
  {
   "cell_type": "code",
   "execution_count": null,
   "metadata": {},
   "outputs": [],
   "source": [
    "plt.plot(rs, Eg_spline(rs)+om, 'red')\n",
    "#plt.plot(rs, pl_1, 'ro-')\n",
    "plt.plot(rs, Ee_spline(rs), 'blue')\n",
    "#plt.plot(rs, pl_2, 'b--')\n",
    "#plt.plot(rs, pl_3, 'g--')\n",
    "plt.show()"
   ]
  },
  {
   "cell_type": "code",
   "execution_count": null,
   "metadata": {},
   "outputs": [],
   "source": [
    "# function to plot\n",
    "def lp(amplitude, omega, r_val, Eg_spline, Ee_spline, mu_spline):\n",
    "    H = np.zeros((3,3))\n",
    "    lp_vals = np.zeros_like(r_val)\n",
    "    for i in range(0, len(r_val)):\n",
    "        H[0,0] = Eg_spline(r_val[i])\n",
    "        H[1,1] = Eg_spline(r_val[i]) + omega\n",
    "        H[1,2] = amplitude * mu_spline(r_val[i])\n",
    "        H[2,1] = amplitude * mu_spline(r_val[i])\n",
    "        H[2,2] = Ee_spline(r_val[i])\n",
    "        vals, vecs = LA.eigh(H)\n",
    "        lp_vals[i] = vals[1]\n",
    "        \n",
    "    return lp_vals\n",
    "\n",
    "# function to plot\n",
    "def up(amplitude, omega, r_val, Eg_spline, Ee_spline, mu_spline):\n",
    "    H = np.zeros((3,3))\n",
    "    up_vals = np.zeros_like(r_val)\n",
    "    for i in range(0, len(r_val)):\n",
    "        H[0,0] = Eg_spline(r_val[i])\n",
    "        H[1,1] = Eg_spline(r_val[i]) + omega\n",
    "        H[1,2] = amplitude * mu_spline(r_val[i])\n",
    "        H[2,1] = amplitude * mu_spline(r_val[i])\n",
    "        H[2,2] = Ee_spline(r_val[i])\n",
    "        vals, vecs = LA.eigh(H)\n",
    "        up_vals[i] = vals[2]\n",
    "        \n",
    "    return up_vals"
   ]
  },
  {
   "cell_type": "code",
   "execution_count": null,
   "metadata": {},
   "outputs": [],
   "source": [
    "print(Eg_spline(rs))\n",
    "print(Ee_spline(rs))\n",
    "print(mu_spline(rs))\n",
    "\n",
    "pl_2 = lp(0.003, om, rs, Eg_spline, Ee_spline, mu_spline)\n",
    "pl_3 = up(0.003, om, rs, Eg_spline, Ee_spline, mu_spline)\n",
    "\n",
    "print(rs)\n",
    "print(pl_2)\n",
    "print(pl_3)"
   ]
  },
  {
   "cell_type": "code",
   "execution_count": null,
   "metadata": {},
   "outputs": [],
   "source": [
    "plt.plot(rs, pl_2, 'b--')\n",
    "plt.plot(rs, pl_3, 'g--')\n",
    "plt.show()\n",
    "#plt.plot(rs, mu_spline(rs))\n",
    "#plt.show()\n",
    "#print(0.005 / 2.0)"
   ]
  },
  {
   "cell_type": "markdown",
   "metadata": {},
   "source": [
    "### Questions:\n",
    "    \n",
    "1.  What happens to the curves as you increase the magnitude of the electric field (`E_au`)\n",
    "?\n",
    "\n",
    "\n",
    "\n",
    "2. What happens to the curves as you decrease the magnitude of the electric field (`E_au`)?\n",
    "\n",
    "\n",
    "\n",
    "3. What are the implications as far as chemical reactions are concerned on being able to change\n",
    "the polaritonic curves through features of the electric field itself?"
   ]
  },
  {
   "cell_type": "code",
   "execution_count": null,
   "metadata": {},
   "outputs": [],
   "source": [
    "%matplotlib widget\n",
    "import ipympl\n",
    "import ipywidgets as widgets\n",
    "import matplotlib.pyplot as plt\n",
    "from IPython.display import display"
   ]
  },
  {
   "cell_type": "code",
   "execution_count": null,
   "metadata": {},
   "outputs": [],
   "source": [
    "# Create a slider widget and a widget to hold the plot.\n",
    "slider = widgets.FloatSlider(description = r'$E_{field}$',\n",
    "                            value = 0.0,\n",
    "                            min = 0.0,\n",
    "                            max = 0.5)\n",
    "# We can use HTML styles to control the appearance of the widget.\n",
    "plot_widget = widgets.Output(layout = {'width':'100%', 'border': '1px solid black'})"
   ]
  },
  {
   "cell_type": "code",
   "execution_count": null,
   "metadata": {},
   "outputs": [],
   "source": [
    "# function to plot\n",
    "def lp(amplitude, r_val, Eg_spline):\n",
    "    return Eg_spline(r_val)\n",
    "\n",
    "    \n",
    "    \n",
    "def up(amplitude, r_val, Ee_spline):\n",
    "    return Ee_spline(r_val)\n",
    "    \n"
   ]
  },
  {
   "cell_type": "code",
   "execution_count": null,
   "metadata": {},
   "outputs": [],
   "source": [
    "# function to plot\n",
    "def lp(amplitude, omega, r_val, Eg_spline, Ee_spline, mu_spline):\n",
    "    H = np.zeros((3,3))\n",
    "    lp_vals = np.zeros_like(r_val)\n",
    "    for i in range(0, len(r_val)):\n",
    "        H[0,0] = Eg_spline(r_val[i])\n",
    "        H[1,1] = Eg_spline(r_val[i]) + omega\n",
    "        H[1,2] = amplitude * mu_spline(r_val[i])\n",
    "        H[2,1] = amplitude * mu_spline(r_val[i])\n",
    "        H[2,2] = Ee_spline(r_val[i])\n",
    "        vals, vecs = LA.eigh(H)\n",
    "        lp_vals[i] = vals[1]\n",
    "        \n",
    "    return lp_vals\n",
    "\n",
    "# function to plot\n",
    "def up(amplitude, omega, r_val, Eg_spline, Ee_spline, mu_spline):\n",
    "    H = np.zeros((3,3))\n",
    "    up_vals = np.zeros_like(r_val)\n",
    "    for i in range(0, len(r_val)):\n",
    "        H[0,0] = Eg_spline(r_val[i])\n",
    "        H[1,1] = Eg_spline(r_val[i]) + omega\n",
    "        H[1,2] = amplitude * mu_spline(r_val[i])\n",
    "        H[2,1] = amplitude * mu_spline(r_val[i])\n",
    "        H[2,2] = Ee_spline(r_val[i])\n",
    "        vals, vecs = LA.eigh(H)\n",
    "        up_vals[i] = vals[2]\n",
    "        \n",
    "    return up_vals"
   ]
  },
  {
   "cell_type": "code",
   "execution_count": null,
   "metadata": {},
   "outputs": [],
   "source": [
    "# Create the plot. \n",
    "\n",
    "x = np.linspace(1.25, 3.5, 50)\n",
    "\n",
    "# Turn off interactive mode before creating the \n",
    "# plot so it doesn't display too early.\n",
    "plt.ioff() # Turn off interactive mode\n",
    "fig, ax = plt.subplots(constrained_layout = True, figsize=[5,4]);\n",
    "plt.ion() # Turn on interactive mode\n",
    "\n",
    "line1, = ax.plot(rs, slider.value*np.sin(rs));\n",
    "line2, = ax.plot(rs, slider.value*np.sin(2*rs));\n",
    "ax.set_ylabel(r'PES')\n",
    "ax.set_xlabel(r'$r$')\n",
    "\n",
    "# force the figure to display in the plot_widget\n",
    "with plot_widget:\n",
    "    display(fig.canvas)\n"
   ]
  },
  {
   "cell_type": "code",
   "execution_count": null,
   "metadata": {},
   "outputs": [],
   "source": [
    "# Create a function to re-draw the plot using the value of the slider. It is \n",
    "# faster to change the y-data but you can erase the plot and draw a new one.\n",
    "def update(value):\n",
    "    '''We can use `slider.value` or `value.new` to get the new slider value.'''\n",
    "    with plot_widget:\n",
    "        line1, = ax.plot(rs, slider.value*np.sin(rs))\n",
    "        line2, = ax.plot(rs, slider.value*np.sin(2*rs))\n",
    "        fig.canvas.draw()\n",
    "\n",
    "# Set an observer to call `update` whenever the value changes.\n",
    "slider.observe(update)"
   ]
  },
  {
   "cell_type": "code",
   "execution_count": null,
   "metadata": {},
   "outputs": [],
   "source": [
    "widgets.VBox([plot_widget, slider])"
   ]
  },
  {
   "cell_type": "markdown",
   "metadata": {},
   "source": [
    "<a id=’Derivation’></a>\n",
    "### Derivation"
   ]
  },
  {
   "cell_type": "code",
   "execution_count": null,
   "metadata": {},
   "outputs": [],
   "source": []
  }
 ],
 "metadata": {
  "kernelspec": {
   "display_name": "Python 3",
   "language": "python",
   "name": "python3"
  },
  "language_info": {
   "codemirror_mode": {
    "name": "ipython",
    "version": 3
   },
   "file_extension": ".py",
   "mimetype": "text/x-python",
   "name": "python",
   "nbconvert_exporter": "python",
   "pygments_lexer": "ipython3",
   "version": "3.8.5"
  },
  "latex_envs": {
   "LaTeX_envs_menu_present": true,
   "autoclose": false,
   "autocomplete": true,
   "bibliofile": "biblio.bib",
   "cite_by": "apalike",
   "current_citInitial": 1,
   "eqLabelWithNumbers": true,
   "eqNumInitial": 1,
   "hotkeys": {
    "equation": "Ctrl-E",
    "itemize": "Ctrl-I"
   },
   "labels_anchors": false,
   "latex_user_defs": false,
   "report_style_numbering": true,
   "user_envs_cfg": true
  }
 },
 "nbformat": 4,
 "nbformat_minor": 4
}
