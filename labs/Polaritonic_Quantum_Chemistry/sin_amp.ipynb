{
 "cells": [
  {
   "cell_type": "code",
   "execution_count": 1,
   "metadata": {},
   "outputs": [],
   "source": [
    "%matplotlib widget\n",
    "import ipympl\n",
    "import ipywidgets as widgets\n",
    "import matplotlib.pyplot as plt\n",
    "import numpy as np\n",
    "from IPython.display import display\n",
    "from scipy.interpolate import InterpolatedUnivariateSpline\n",
    "from numpy import linalg as LA\n",
    "### Import libraries to be used throughout\n",
    "# basic psi4 library\n",
    "import psi4\n",
    "# numpy\n",
    "import numpy as np\n",
    "# scipy\n",
    "from scipy.interpolate import InterpolatedUnivariateSpline\n",
    "# linear algebra package from numpy\n",
    "from numpy import linalg as LA\n",
    "# time-dependent scf library from psi4 for computing excited states and transition dipole moments\n",
    "from psi4.driver.procrouting.response.scf_response import tdscf_excitations\n",
    "#from matplotlib import pyplot as plt"
   ]
  },
  {
   "cell_type": "code",
   "execution_count": 2,
   "metadata": {},
   "outputs": [],
   "source": [
    "# Create a slider widget and a widget to hold the plot.\n",
    "slider = widgets.FloatSlider(description = r'$g$',\n",
    "                            value = 0,\n",
    "                            min = 0,\n",
    "                            max = 5,  \n",
    "                            step = 1)\n",
    "# We can use HTML styles to control the appearance of the widget.\n",
    "plot_widget = widgets.Output(layout = {'width':'100%', 'border': '1px solid black'})"
   ]
  },
  {
   "cell_type": "code",
   "execution_count": 3,
   "metadata": {},
   "outputs": [],
   "source": [
    "# function to plot\n",
    "def lp(amplitude, omega, r_val, g_spline, e_spline, tdm_spline):\n",
    "    H = np.zeros((3,3))\n",
    "    lp_vals = np.zeros_like(r_val)\n",
    "    for i in range(0, len(r_val)):\n",
    "        H[0,0] = g_spline(r_val[i])\n",
    "        H[1,1] = g_spline(r_val[i]) + omega\n",
    "        H[1,2] = amplitude * tdm_spline(r_val[i])\n",
    "        H[2,1] = amplitude * tdm_spline(r_val[i])\n",
    "        H[2,2] = e_spline(r_val[i])\n",
    "        vals, vecs = LA.eigh(H)\n",
    "        lp_vals[i] = vals[1]\n",
    "        \n",
    "    return lp_vals\n",
    "\n",
    "\n",
    "# function to plot\n",
    "def up(amplitude, omega, r_val, g_spline, e_spline, tdm_spline):\n",
    "    H = np.zeros((3,3))\n",
    "    up_vals = np.zeros_like(r_val)\n",
    "    for i in range(0, len(r_val)):\n",
    "        H[0,0] = g_spline(r_val[i])\n",
    "        H[1,1] = g_spline(r_val[i]) + omega\n",
    "        H[1,2] = amplitude * tdm_spline(r_val[i])\n",
    "        H[2,1] = amplitude * tdm_spline(r_val[i])\n",
    "        H[2,2] = e_spline(r_val[i])\n",
    "        vals, vecs = LA.eigh(H)\n",
    "        up_vals[i] = vals[2]\n",
    "        \n",
    "    return up_vals\n",
    "\n",
    "## create an array of x values\n",
    "#x = np.linspace(-np.pi, np.pi, 201)\n",
    "rs = np.array([1.3, 1.42, 1.54, \n",
    "               1.6600000000000001, 1.78, 1.9, \n",
    "               2.02, 2.14, 2.26, 2.38, 2.5, \n",
    "               2.62, 2.74, 2.8600000000000003, \n",
    "               2.98, 3.0999999999999996, 3.2199999999999998, \n",
    "               3.34, 3.46, 3.58])\n",
    "\n",
    "Eg = np.array([-200.34317863, -200.36733437, -200.3788335,  -200.38211913, -200.38005015,\n",
    " -200.37454644, -200.36693436, -200.35813969, -200.34880828, -200.33938762,\n",
    " -200.33018284, -200.32139619, -200.3131552,  -200.30553287, -200.29856231,\n",
    " -200.29224756, -200.28657217, -200.2815057,  -200.27700922, -200.27303916])\n",
    "\n",
    "Ee = np.array([-200.11946659, -200.15343212, -200.17455494, -200.18699014, -200.19340378,\n",
    " -200.19564856, -200.19506567, -200.19266834, -200.18922925, -200.18533058,\n",
    " -200.18141088, -200.17778616, -200.17467719, -200.17223017, -200.17053044,\n",
    " -200.16961006, -200.16945866, -200.17002824, -200.17124271, -200.17300921])\n",
    "\n",
    "mu = np.array([1.41026992, 1.46500868, 1.53226812, 1.60873137, 1.69113032, 1.77658259,\n",
    " 1.86280274, 1.9479899,  2.03067753, 2.10965627, 2.18375603, 2.25178818,\n",
    " 2.31244456, 2.36432877, 2.40606639, 2.43656128, 2.45526201, 2.46232396,\n",
    " 2.45859393, 2.44546058])\n",
    "\n",
    "lp_array = np.array([-200.18542568, -200.20965361, -200.22126158, -200.22471227, -200.2228985,\n",
    " -200.21780423, -200.2108843,  -200.20332124, -200.19614803, -200.18997948,\n",
    " -200.18480472, -200.18045717, -200.17688908, -200.17412067, -200.17217721,\n",
    " -200.17106054, -200.17074442, -200.17117242, -200.17226379, -200.17392288])\n",
    "\n",
    "up_array = np.array([-200.11919521, -200.15308855, -200.17410253, -200.18637267, -200.1925311,\n",
    " -200.19436644, -200.1930914,  -200.18946246, -200.18386517, -200.17671439,\n",
    " -200.16876468, -200.16070086, -200.15291899, -200.14561803, -200.13889122,\n",
    " -200.13277276, -200.12726208, -200.12233719, -200.11796381, -200.11410116])\n",
    "\n",
    "\n",
    "#a_spline = InterpolatedUnivariateSpline(rs, lp, k=3)\n",
    "#b_spline = InterpolatedUnivariateSpline(rs, up, k=3)\n",
    "Eg_spline = InterpolatedUnivariateSpline(rs, Eg, k=3)\n",
    "Ee_spline = InterpolatedUnivariateSpline(rs, Ee, k=3)\n",
    "mu_spline = InterpolatedUnivariateSpline(rs, mu, k=3)\n",
    "\n",
    "om = 4.3 / 27.211\n",
    "\n",
    "compute_lp = lp(0.003, om, rs, Eg_spline, Ee_spline, mu_spline)\n",
    "compute_up = up(0.003, om, rs, Eg_spline, Ee_spline, mu_spline)\n",
    "\n",
    "\n",
    "assert np.allclose(compute_lp, lp_array)\n",
    "assert np.allclose(compute_up, up_array)\n",
    "\n",
    "# function to plot\n",
    "def a_sin(amplitude, x, a_spline):\n",
    "    return amplitude * a_spline(x)\n",
    "\n",
    "def b_sin(amplitude, x, b_spline):\n",
    "    return amplitude * b_spline(x)"
   ]
  },
  {
   "cell_type": "code",
   "execution_count": 4,
   "metadata": {},
   "outputs": [],
   "source": [
    "\n",
    "# Turn off interactive mode before creating the \n",
    "# plot so it doesn't display too early.\n",
    "plt.ioff() # Turn off interactive mode\n",
    "fig, ax = plt.subplots(constrained_layout = True, figsize=[5,4]);\n",
    "plt.ion() # Turn on interactive mode\n",
    "\n",
    "#line1, = ax.plot(rs, a_sin(slider.value, rs, a_spline));\n",
    "#line2, = ax.plot(rs, b_sin(slider.value, rs, b_spline));\n",
    "line1, = ax.plot(rs, lp(0.00, om, rs, Eg_spline, Ee_spline, mu_spline));\n",
    "line2, = ax.plot(rs, up(0.00, om, rs, Eg_spline, Ee_spline, mu_spline));\n",
    "ax.set_ylabel(r'$A\\sin(x)$')\n",
    "ax.set_xlabel(r'$x$')\n",
    "\n",
    "# force the figure to display in the plot_widget\n",
    "with plot_widget:\n",
    "    display(fig.canvas)\n"
   ]
  },
  {
   "cell_type": "code",
   "execution_count": 5,
   "metadata": {},
   "outputs": [],
   "source": [
    "# Create a function to re-draw the plot using the value of the slider. It is \n",
    "# faster to change the y-data but you can erase the plot and draw a new one.\n",
    "def update(value):\n",
    "    '''We can use `slider.value` or `value.new` to get the new slider value.'''\n",
    "    with plot_widget:\n",
    "        line1.set_ydata(lp(slider.value*0.001, om, rs, Eg_spline, Ee_spline, mu_spline))\n",
    "        line2.set_ydata(up(slider.value*0.001, om, rs, Eg_spline, Ee_spline, mu_spline))\n",
    "        fig.canvas.draw()\n",
    "\n",
    "# Set an observer to call `update` whenever the value changes.\n",
    "slider.observe(update)"
   ]
  },
  {
   "cell_type": "markdown",
   "metadata": {},
   "source": [
    "Use the slider below to change the amplitude, $A$, of the sine function."
   ]
  },
  {
   "cell_type": "code",
   "execution_count": 6,
   "metadata": {
    "tags": []
   },
   "outputs": [
    {
     "data": {
      "application/vnd.jupyter.widget-view+json": {
       "model_id": "dd1cd81e20aa49d3904c96e99d18e2d8",
       "version_major": 2,
       "version_minor": 0
      },
      "text/plain": [
       "VBox(children=(Output(layout=Layout(border='1px solid black', width='100%'), outputs=({'output_type': 'display…"
      ]
     },
     "metadata": {},
     "output_type": "display_data"
    }
   ],
   "source": [
    "widgets.VBox([plot_widget, slider])"
   ]
  },
  {
   "cell_type": "code",
   "execution_count": null,
   "metadata": {},
   "outputs": [],
   "source": []
  }
 ],
 "metadata": {
  "kernelspec": {
   "display_name": "Python 3",
   "language": "python",
   "name": "python3"
  },
  "language_info": {
   "codemirror_mode": {
    "name": "ipython",
    "version": 3
   },
   "file_extension": ".py",
   "mimetype": "text/x-python",
   "name": "python",
   "nbconvert_exporter": "python",
   "pygments_lexer": "ipython3",
   "version": "3.8.5"
  },
  "toc-autonumbering": true,
  "toc-showcode": true,
  "toc-showmarkdowntxt": true
 },
 "nbformat": 4,
 "nbformat_minor": 5
}
