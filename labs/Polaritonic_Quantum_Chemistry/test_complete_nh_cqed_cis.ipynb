{
 "cells": [
  {
   "cell_type": "code",
   "execution_count": 1,
   "metadata": {},
   "outputs": [],
   "source": [
    "from __future__ import print_function\n",
    "\"\"\"\n",
    "Tutorial: A reference implementation of non-hermitian cavity quantum electrodynamics \n",
    "configuration interactions singles.\n",
    "\"\"\"\n",
    "\n",
    "__authors__   = [\"Jon McTague\", \"Jonathan Foley\"]\n",
    "__credits__   = [\"Jon McTague\", \"Jonathan Foley]\n",
    "\n",
    "__copyright_amp__ = \"(c) 2014-2018, The Psi4NumPy Developers\"\n",
    "__license__   = \"BSD-3-Clause\"\n",
    "__date__      = \"2021-01-15\""
   ]
  },
  {
   "cell_type": "markdown",
   "metadata": {},
   "source": [
    "# Non-Hermitian Cavity Quantum Electrodynamics Configuration Interaction Singles (NH-CQED-CIS) "
   ]
  },
  {
   "cell_type": "markdown",
   "metadata": {},
   "source": [
    "## I. Theoretical Overview"
   ]
  },
  {
   "cell_type": "markdown",
   "metadata": {},
   "source": [
    "This tutorial builds from the Psi4Numpy tutorial on canonical CIS for molecular systems, that implements the configuration interaction singles method in the spin orbital notation. The groundwork for working in the spin orbital notation has been laid out in \"Introduction to the Spin Orbital Formulation of Post-HF methods\" [tutorial](../08_CEPA0_and_CCD/8a_Intro_to_spin_orbital_postHF.ipynb). It is highly recommended to work through that introduction before starting this tutorial. \n",
    "\n",
    "We propose a novel formulation of ab initio CQED that couples an ab initio molecular Hamiltonian to a non-Hermitian photonic Hamiltonian to capture the finite lifetime and energy uncertainty of nanoconfined optical resonances.   As a first realization of this theory, will develop a configuration interaction singles approach for the energy eigenstates of this non-Hermitian polaritonic Hamiltonian, which will allow us to leverage tools of modern quantum chemistry, including analytic evaluation of forces and nonadiabatic couplings, to study polaritonic structure and reactivity.  This will pave the way for future developments of a hierarchy of CI-based approaches that can be systematically improved in terms of their accuracy, and are also interoperable with the powerful machinery of quantum chemistry codes.  In particular, we envision that Complete Active Space CI theory, which has been a particularly promising approach for simulating photochemistry, can be merged with NH-CQED to provide a powerful tool for simulating polaritonic chemistry.\n",
    "In the following presentation of NH-CQED-CIS theory, we will consider only a single photonic degree of freedom for notational simplicity, but generalizations to additional photonic modes is feasible.  The total polaritonic Hamiltonian operator may be written as\n",
    "\\begin{equation}\n",
    "    \\hat{H} = \\sum_{pq} h_{pq} \\hat{a}_p^{\\dagger} \\hat{a}_q + \n",
    "    \\sum_{pqrs} V_{pq}^{rs} \\hat{a}_p^{\\dagger} \\hat{a}_q^{\\dagger} \\hat{a}_s \\hat{a}_r\n",
    "    + \\hbar \\left( \\omega - i \\frac{\\gamma}{2} \\right)\\hat{b}^{\\dagger} \\hat{b} \n",
    "    + \\sum_{pq} \\hbar g_{pq} \\hat{a}_p^{\\dagger} \\hat{a}_q \\left(\\hat{b}^{\\dagger} + \\hat{b} \\right),\n",
    "\\end{equation}\n",
    "where $h_{pq}$ includes the molecular electronic kinetic energy and electron-nuclear potential\n",
    "integrals, $V_{pq}^{rs}$ denotes the molecular 2-electron repulsion integrals, \n",
    "$\\hat{a}_p^{\\dagger}$ and $\\hat{a}_q$ denotes the electronic creation and annihilation \n",
    "operators, $\\omega$ and $\\gamma$ denote the energy and lifetime of the photonic degree of \n",
    "freedom, $\\hat{b}^{\\dagger}$ and $\\hat{b}$ denote the photonic raising and lowering operators, and $g_{pq}$ denotes the coupling between the photonic and electronic degrees of freedom. "
   ]
  },
  {
   "cell_type": "code",
   "execution_count": 1,
   "metadata": {},
   "outputs": [],
   "source": [
    "# ==> Import Psi4, NumPy, & SciPy <==\n",
    "import psi4\n",
    "import numpy as np\n",
    "import scipy.linalg as la\n",
    "\n",
    "# ==> Set Basic Psi4 Options <==\n",
    "\n",
    "# Memory specifications\n",
    "psi4.set_memory(int(2e9))\n",
    "numpy_memory = 2\n",
    "\n",
    "# Output options\n",
    "psi4.core.set_output_file('output.dat', False)"
   ]
  },
  {
   "cell_type": "markdown",
   "metadata": {},
   "source": [
    "Define the molecule!"
   ]
  },
  {
   "cell_type": "code",
   "execution_count": 35,
   "metadata": {},
   "outputs": [],
   "source": [
    "mol = psi4.geometry(\"\"\"\n",
    "0 1\n",
    "O\n",
    "H 1 1.1\n",
    "H 1 1.1 2 104\n",
    "symmetry c1\n",
    "\"\"\")\n",
    "\n",
    "psi4.set_options({'basis':        'sto-3g',\n",
    "                  'scf_type':     'pk',\n",
    "                  'reference':    'rhf'})\n",
    "\n",
    "# also define photon energy as 0.25 a.u. which is about 6.8 eV\n",
    "E_phot = 0.25"
   ]
  },
  {
   "cell_type": "markdown",
   "metadata": {},
   "source": [
    "We use Psi4 to compute the RHF energy and wavefunction and store them in variables `scf_e` and `scf_wfn`. We also check the memory requirements for computation:"
   ]
  },
  {
   "cell_type": "code",
   "execution_count": 9,
   "metadata": {},
   "outputs": [
    {
     "name": "stdout",
     "output_type": "stream",
     "text": [
      "\n",
      "Size of the ERI tensor will be 0.00 GB.\n",
      "\n"
     ]
    }
   ],
   "source": [
    "# Get the SCF wavefunction & energies\n",
    "scf_e, wfn = psi4.energy('scf', return_wfn=True)\n",
    "\n",
    "# ==> Nuclear Repulsion Energy <==\n",
    "E_nuc = mol.nuclear_repulsion_energy()\n",
    "\n",
    "# Check memory requirements\n",
    "nmo = scf_wfn.nmo()\n",
    "I_size = (nmo**4) * 8e-9\n",
    "print('\\nSize of the ERI tensor will be %4.2f GB.\\n' % I_size)\n",
    "memory_footprint = I_size * 1.5\n",
    "if I_size > numpy_memory:\n",
    "    psi4.core.clean()\n",
    "    raise Exception(\"Estimated memory utilization (%4.2f GB) exceeds allotted \\\n",
    "                     memory limit of %4.2f GB.\" % (memory_footprint, numpy_memory))"
   ]
  },
  {
   "cell_type": "markdown",
   "metadata": {},
   "source": [
    "We first obtain orbital information from our wavefunction. We also create an instance of MintsHelper to help build our molecular integrals:"
   ]
  },
  {
   "cell_type": "code",
   "execution_count": 10,
   "metadata": {},
   "outputs": [],
   "source": [
    "# Create instance of MintsHelper class\n",
    "mints = psi4.core.MintsHelper(wfn.basisset())\n",
    "\n",
    "# Get basis and orbital information\n",
    "nbf = mints.nbf()          # Number of basis functions\n",
    "nalpha = wfn.nalpha()  # Number of alpha electrons\n",
    "nbeta = wfn.nbeta()    # Number of beta electrons\n",
    "nocc = nalpha + nbeta      # Total number of electrons\n",
    "nso = 2 * nbf              # Total number of spin orbitals\n",
    "nvirt = nso - nocc         # Number of virtual orbitals"
   ]
  },
  {
   "cell_type": "markdown",
   "metadata": {},
   "source": [
    "Let's first take care of the molecule-photon coupling terms.  A \n",
    "dipole-dipole coupling potential provides a reasonable approximation to this term:\n",
    "\\begin{equation}\n",
    "g_{pq} = \\frac{1}{r^3} \\mu_{pq} \\cdot \\mu_s - \\frac{3}{r^5}\\left(\\mu_{pq} \\cdot r \\right) \\left(\\mu_s \\cdot r \\right),\n",
    "\\end{equation}\n",
    "where $\\mu_{pq}$ are the the dipole integrals in the MO basis.\n",
    "\n",
    "We will need to build a matrix of these coupling elements that matches the spin-blocking used in the subsequent CIS Hamiltonian."
   ]
  },
  {
   "cell_type": "code",
   "execution_count": 11,
   "metadata": {},
   "outputs": [
    {
     "name": "stdout",
     "output_type": "stream",
     "text": [
      "[[ 0.14322583  0.03390212 -0.05079193  0.          0.          0.00375868\n",
      "   0.00375868  0.          0.         -0.          0.          0.\n",
      "   0.          0.        ]\n",
      " [ 0.03390212  0.14322583 -0.64117284  0.          0.         -0.14997188\n",
      "  -0.14997188  0.          0.         -0.          0.          0.\n",
      "  -0.         -0.        ]\n",
      " [-0.05079193 -0.64117284  0.14322583  0.          0.         -0.33409068\n",
      "  -0.33409068 -0.         -0.          0.          0.          0.\n",
      "  -0.         -0.        ]\n",
      " [ 0.          0.          0.          0.14322583  0.          0.\n",
      "   0.          0.          0.          0.          0.          0.\n",
      "   0.          0.        ]\n",
      " [ 0.          0.          0.          0.          0.14322583  0.10895216\n",
      "  -0.10895216  0.          0.          0.          0.          0.\n",
      "   0.         -0.        ]\n",
      " [ 0.00375868 -0.14997188 -0.33409068  0.          0.10895216 -1.1365489\n",
      "  -0.20657896  0.         -0.         -0.          0.          0.\n",
      "  -0.         -0.        ]\n",
      " [ 0.00375868 -0.14997188 -0.33409068  0.         -0.10895216 -0.20657896\n",
      "  -1.1365489   0.         -0.         -0.          0.         -0.\n",
      "  -0.         -0.        ]\n",
      " [ 0.          0.         -0.          0.          0.          0.\n",
      "   0.          0.14322583  0.03390212 -0.05079193  0.          0.\n",
      "   0.00375868  0.00375868]\n",
      " [ 0.          0.         -0.          0.          0.         -0.\n",
      "  -0.          0.03390212  0.14322583 -0.64117284  0.          0.\n",
      "  -0.14997188 -0.14997188]\n",
      " [-0.         -0.          0.          0.          0.         -0.\n",
      "  -0.         -0.05079193 -0.64117284  0.14322583  0.          0.\n",
      "  -0.33409068 -0.33409068]\n",
      " [ 0.          0.          0.          0.          0.          0.\n",
      "   0.          0.          0.          0.          0.14322583  0.\n",
      "   0.          0.        ]\n",
      " [ 0.          0.          0.          0.          0.          0.\n",
      "  -0.          0.          0.          0.          0.          0.14322583\n",
      "   0.10895216 -0.10895216]\n",
      " [ 0.         -0.         -0.          0.          0.         -0.\n",
      "  -0.          0.00375868 -0.14997188 -0.33409068  0.          0.10895216\n",
      "  -1.1365489  -0.20657896]\n",
      " [ 0.         -0.         -0.          0.         -0.         -0.\n",
      "  -0.          0.00375868 -0.14997188 -0.33409068  0.         -0.10895216\n",
      "  -0.20657896 -1.1365489 ]]\n"
     ]
    }
   ],
   "source": [
    "# ==> array of dipole integrals <==\n",
    "# start by assuming photon polarized along z so only\n",
    "# need z-component of molecular dipole integrals!\n",
    "mu_z = np.asarray(mints.ao_dipole()[2])\n",
    "\n",
    "# Using np.kron, we project mu_z into the space of the 2x2 identity\n",
    "# The result is the dipole contribution to the Hamiltonian in the spin orbital formulation\n",
    "mu_z_mat = np.kron(np.eye(2), mu_z)\n",
    "print(mu_z_mat)"
   ]
  },
  {
   "cell_type": "markdown",
   "metadata": {},
   "source": [
    "Form transformation vectors from AO->MO basis!"
   ]
  },
  {
   "cell_type": "code",
   "execution_count": 22,
   "metadata": {},
   "outputs": [],
   "source": [
    "# Get orbital energies, cast into NumPy array, and extend eigenvalues\n",
    "eps_a = np.asarray(wfn.epsilon_a())\n",
    "eps_b = np.asarray(wfn.epsilon_b())\n",
    "eps = np.append(eps_a, eps_b)\n",
    "\n",
    "# Get coefficients, block, and sort\n",
    "Ca = np.asarray(wfn.Ca())\n",
    "Cb = np.asarray(wfn.Cb())\n",
    "C = np.block([\n",
    "             [      Ca,         np.zeros_like(Cb)],\n",
    "             [np.zeros_like(Ca),          Cb     ]])\n",
    "\n",
    "\n",
    "# Sort the columns of C according to the order of orbital energies\n",
    "C = C[:, eps.argsort()]\n",
    "\n",
    "# Sort orbital energies\n",
    "eps = np.sort(eps)\n",
    "\n",
    "def ao_to_mo(hao, C):\n",
    "    '''\n",
    "    Transform hao, which is the core Hamiltonian in the spin orbital basis,\n",
    "    into the MO basis using MO coefficients\n",
    "    '''\n",
    "    \n",
    "    return np.einsum('pQ, pP -> PQ', \n",
    "           np.einsum('pq, qQ -> pQ', hao, C, optimize=True), C, optimize=True)\n",
    "\n",
    "# Transform mu_z_so and hao into MO basis\n",
    "mu_z_so = ao_to_mo(mu_z_mat, C)\n"
   ]
  },
  {
   "cell_type": "markdown",
   "metadata": {},
   "source": [
    "Restricting the polarization of the photon to the z-direction means we need \n",
    "only worry about the scalar separation (along the z-axis) between the center-of-mass of\n",
    "the molecular transition dipoles and the photon transition dipole ($r_z$) and the \n",
    "$z$-component of the photon transition dipole $\\mu_{s,z}$.\n",
    "\\begin{equation}\n",
    "g_{pq} = \\frac{1}{r_z^3} \\mu_{z,pq} \\cdot \\mu_{z,s} - \\frac{3}{r_z^5}\\left(\\mu_{z,pq} \\cdot r_z \\right) \\left(\\mu_{s,z} \\cdot r_z \\right),\n",
    "\\end{equation}"
   ]
  },
  {
   "cell_type": "code",
   "execution_count": 36,
   "metadata": {},
   "outputs": [],
   "source": [
    "''' build g matrix here in the same shape as the dipole matrix and the C matrix'''\n",
    "# first define the constant terms that contribute to the matrix\n",
    "\n",
    "# tdm of the photonic mode in atomic units\n",
    "mu_s = 100.0\n",
    "\n",
    "# separation between the photon com and molecule com in atomic units\n",
    "r = 50.0\n",
    "\n",
    "# 1/r^3 term\n",
    "oer3 = 1 / r ** 3\n",
    "\n",
    "# 3/r^5 term\n",
    "toer5 = 3 / r ** 5\n",
    "\n",
    "# product between photonic tdm and separation vector component r\n",
    "mus_r = mu_s * r\n",
    "\n",
    "# contribution to g-matrix from first term\n",
    "g_one = oer3 * mu_z_so * mu_s\n",
    "\n",
    "# contribution to g-matrix from second term\n",
    "g_two = toer5 * mu_z_so * r * mus_r\n",
    "\n",
    "g = g_one - g_two\n",
    "\n",
    "     "
   ]
  },
  {
   "cell_type": "markdown",
   "metadata": {},
   "source": [
    "## NH-CQED-CIS\n",
    "\n",
    "In CIS, only single excitations from the occupied (indices i,j,k...) to the virtual (indices a,b,c...) orbitals are included. As a result, CIS gives transition energies to an excited state. \n",
    "\n",
    "The polaritonic energy eigenfunctions for state $I$ in the\n",
    "CQED-CIS ansatz can be written as \n",
    "\\begin{equation}\n",
    "\\Psi_I = c_{0,0} |\\Phi_0\\rangle |0\\rangle + \n",
    "c_{0,1} |\\Phi_0\\rangle |1\\rangle +\n",
    "c^a_{i,0} |\\Phi_i^a\\rangle |0\\rangle +\n",
    "c^a_{i,1} |\\Phi_i^a\\rangle |1\\rangle \n",
    "\\end{equation}\n",
    "\n",
    "Assuming we are using canonical Hartree-Fock spin orbitals($\\{\\mathrm{\\psi_p}\\}$) with orbital energies $\\{\\epsilon_p\\}$, we can build a shifted CIS Hamiltonian matrix:\n",
    "\n",
    "\\begin{equation}\n",
    "\\tilde{\\textbf{H}} = \\textbf{H} - E_0 \\textbf{I} = \n",
    "[\\langle s| \\langle \\Phi_P | \\hat{H} - E_0|\\Phi_Q \\rangle | t \\rangle ]\n",
    "\\end{equation}\n",
    "where\n",
    "\\begin{equation}\n",
    "\\Phi_P, \\Phi_Q \\in {\\Phi_i^a} \\; {\\rm and} \\; |s\\rangle, |t\\rangle \\in {|0\\rangle, |1\\rangle}\n",
    "\\end{equation}\n",
    "\n",
    "and where $E_0$ is the ground state Hartree-Fock state energy given by $\\langle \\Phi | \\hat{H}_e|\\Phi \\rangle$,\n",
    "where $\\hat{H}_e$ contains only the molecular electronic terms.\n",
    "\n",
    "The matrix elements of this shifted CIS Hamiltonian matrix contains three contributions:\n",
    "\n",
    "\\begin{equation}\n",
    "\\langle s | \\langle \\Phi_i^a | \\hat{H} - E_0|\\Phi_j^b \\rangle | t \\rangle = \n",
    "\\langle s | \\langle \\Phi_i^a | \\hat{H}_e - E_0|\\Phi_j^b \\rangle | t \\rangle\n",
    "+ \\langle s | \\langle \\Phi_i^a | \\hat{H}_p |\\Phi_j^b \\rangle | t \\rangle\n",
    "+ \\langle s | \\langle \\Phi_i^a | \\hat{H}_{ep}|\\Phi_j^b \\rangle | t \\rangle.\n",
    "\\end{equation}\n",
    "The first term is similar to the ordinary CIS matrix elements with the requirement that the photonic\n",
    "bra and ket states be identical:\n",
    "\\begin{equation}\n",
    "\\langle s | \\langle \\Phi_i^a | \\hat{H_e} - E_0|\\Phi_j^b \\rangle | t \\rangle = \\left((\\epsilon_a - \\epsilon_i)\\delta_{ij} \\delta_{ab}\n",
    "+ \\langle aj || ib \\rangle \\right) \\delta_{st}.\n",
    "\\end{equation}\n",
    "The second term vanishes unless both the photonic and molecular bra and ket states are identical:\n",
    "\\begin{equation}\n",
    "\\langle s | \\langle \\Phi_i^a | \\hat{H}_p |\\Phi_j^b \\rangle | t \\rangle = \\delta_{st} \\delta_{ij} \\delta_{ab} \\left( \\hbar \\omega + i\\frac{\\gamma}{2}\\right)\\sqrt{s}.\n",
    "\\end{equation}\n",
    "The third term couples particular transitions between photonic and molecular bra and ket states:\n",
    "\\begin{equation}\n",
    "\\langle s | \\langle \\Phi_i^a | \\hat{H}_{ep}|\\Phi_j^b \\rangle | t \\rangle =\n",
    "\\left( 1 - \\delta_{st} \\right) \\left( g_{ab} \\delta_{ij} - g_{ij} \\delta_{ab} \\right)\n",
    "\\end{equation}\n",
    "\n",
    "This then becomes a standard eigenvalue equation from which we can solve for the excitation energies and the wavefunction expansion coefficients:\n",
    "\n",
    "\\begin{equation}\n",
    "\\tilde{\\textbf{H}} \\textbf{c}_K = \\Delta E_K\\textbf{c}_K, \\,\\Delta E_K = E_K - E_0\n",
    "\\end{equation}\n",
    "\n"
   ]
  },
  {
   "cell_type": "markdown",
   "metadata": {},
   "source": [
    "## II. Implementation"
   ]
  },
  {
   "cell_type": "markdown",
   "metadata": {},
   "source": [
    "As with previous tutorials, let's begin by importing Psi4 and NumPy and setting memory and output file options."
   ]
  },
  {
   "cell_type": "markdown",
   "metadata": {},
   "source": [
    "We now define the molecule and set Psi4 options:"
   ]
  },
  {
   "cell_type": "markdown",
   "metadata": {},
   "source": [
    "We use Psi4 to compute the RHF energy and wavefunction and store them in variables `scf_e and scf_wfn`. We also check the memory requirements for computation:"
   ]
  },
  {
   "cell_type": "markdown",
   "metadata": {},
   "source": [
    "We now build our 2-electron integral, a 4D tensor, in the spin orbital formulation. We also convert it into physicist's notation and antisymmetrize for easier manipulation of the tensor later on. "
   ]
  },
  {
   "cell_type": "code",
   "execution_count": 37,
   "metadata": {},
   "outputs": [],
   "source": [
    "def spin_block_tei(I):\n",
    "    '''\n",
    "    Spin blocks 2-electron integrals\n",
    "    Using np.kron, we project I and I tranpose into the space of the 2x2 ide\n",
    "    The result is our 2-electron integral tensor in spin orbital notation\n",
    "     '''\n",
    "    identity = np.eye(2)\n",
    "    I = np.kron(identity, I)\n",
    "    return np.kron(identity, I.T)\n",
    " \n",
    "I = np.asarray(mints.ao_eri())\n",
    "I_spinblock = spin_block_tei(I)\n",
    " \n",
    "# Convert chemist's notation to physicist's notation, and antisymmetrize\n",
    "# (pq | rs) ---> <pr | qs>\n",
    "# <pr||qs> = <pr | qs> - <pr | sq>\n",
    "gao = I_spinblock.transpose(0, 2, 1, 3) - I_spinblock.transpose(0, 2, 3, 1)"
   ]
  },
  {
   "cell_type": "markdown",
   "metadata": {},
   "source": [
    "We get the orbital energies from alpha and beta electrons and append them together. We spin-block the coefficients obtained from the reference wavefunction and convert them into NumPy arrays. There is a set corresponding to coefficients from alpha electrons and a set of coefficients from beta electrons. We then sort them according to the order of the orbital energies using argsort():"
   ]
  },
  {
   "cell_type": "markdown",
   "metadata": {},
   "source": [
    "We now transform the 2-electron integral from the AO basis into the MO basis using the coefficients:\n"
   ]
  },
  {
   "cell_type": "code",
   "execution_count": 38,
   "metadata": {},
   "outputs": [],
   "source": [
    "# Transform gao, which is the spin-blocked 4d array of physicist's notation,\n",
    "# antisymmetric two-electron integrals, into the MO basis using MO coefficients\n",
    "gmo = np.einsum('pQRS, pP -> PQRS',\n",
    "      np.einsum('pqRS, qQ -> pQRS',\n",
    "      np.einsum('pqrS, rR -> pqRS',\n",
    "      np.einsum('pqrs, sS -> pqrS', gao, C, optimize=True), C, optimize=True), C, optimize=True), C, optimize=True)"
   ]
  },
  {
   "cell_type": "markdown",
   "metadata": {},
   "source": [
    "Now that we have our integrals, coefficents, and orbital energies set up in with spin orbitals, we can start our CIS procedure. We first start by initializing the shifted Hamiltonion matrix $\\tilde{\\textbf{H}}$ (`HCIS`). Let's think about the size of $\\tilde{\\textbf{H}}$. We need all possible single excitations from the occupied to virtual orbitals. This is given by the number of occupied orbitals times the number of virtual orbitals times the number\n",
    "of photonic states (`nocc * nvirt * nphot`).\n",
    "\n",
    "The size of our matrix is thus `nocc * nvirt * nphot` by `nocc * nvirt * nphot`. "
   ]
  },
  {
   "cell_type": "code",
   "execution_count": 39,
   "metadata": {},
   "outputs": [],
   "source": [
    "# Initialize CIS matrix.\n",
    "# With the number of photonic states limited to 2,\n",
    "# i.e. the |0> state and the |1> state, \n",
    "# the dimensions are the number of possible single excitations * 2\n",
    "nphot = 2\n",
    "HCIS = np.zeros((nocc * nvirt * nphot, nocc * nvirt * nphot))"
   ]
  },
  {
   "cell_type": "markdown",
   "metadata": {},
   "source": [
    "Next, we want to build all possible excitations from occupied to virtual orbitals. We create two for-loops that will loop over the number of occupied orbitals and number of virtual orbitals, respectively, and store the combination of occupied and virtual indices as a tuple `(i, a)`. We put all tuples in a list called `excitations`. "
   ]
  },
  {
   "cell_type": "code",
   "execution_count": 40,
   "metadata": {},
   "outputs": [
    {
     "name": "stdout",
     "output_type": "stream",
     "text": [
      "[(0, 10, 0), (0, 10, 1), (0, 11, 0), (0, 11, 1), (0, 12, 0), (0, 12, 1), (0, 13, 0), (0, 13, 1), (1, 10, 0), (1, 10, 1), (1, 11, 0), (1, 11, 1), (1, 12, 0), (1, 12, 1), (1, 13, 0), (1, 13, 1), (2, 10, 0), (2, 10, 1), (2, 11, 0), (2, 11, 1), (2, 12, 0), (2, 12, 1), (2, 13, 0), (2, 13, 1), (3, 10, 0), (3, 10, 1), (3, 11, 0), (3, 11, 1), (3, 12, 0), (3, 12, 1), (3, 13, 0), (3, 13, 1), (4, 10, 0), (4, 10, 1), (4, 11, 0), (4, 11, 1), (4, 12, 0), (4, 12, 1), (4, 13, 0), (4, 13, 1), (5, 10, 0), (5, 10, 1), (5, 11, 0), (5, 11, 1), (5, 12, 0), (5, 12, 1), (5, 13, 0), (5, 13, 1), (6, 10, 0), (6, 10, 1), (6, 11, 0), (6, 11, 1), (6, 12, 0), (6, 12, 1), (6, 13, 0), (6, 13, 1), (7, 10, 0), (7, 10, 1), (7, 11, 0), (7, 11, 1), (7, 12, 0), (7, 12, 1), (7, 13, 0), (7, 13, 1), (8, 10, 0), (8, 10, 1), (8, 11, 0), (8, 11, 1), (8, 12, 0), (8, 12, 1), (8, 13, 0), (8, 13, 1), (9, 10, 0), (9, 10, 1), (9, 11, 0), (9, 11, 1), (9, 12, 0), (9, 12, 1), (9, 13, 0), (9, 13, 1)]\n"
     ]
    }
   ],
   "source": [
    "# Build the possible excitations, collect indices into a list\n",
    "excitations = []\n",
    "for i in range(nocc):\n",
    "    for a in range(nocc, nso):\n",
    "        for s in range(0,2):\n",
    "            excitations.append((i, a, s))\n",
    "        \n",
    "print(excitations)\n",
    "\n"
   ]
  },
  {
   "cell_type": "markdown",
   "metadata": {},
   "source": [
    "Now we can evaluate the matrix elements of the shifted CIS Hamiltonian matrix using the equation given above. For each element, there are several layers of indexing that we have to consider. \n",
    "First, there are the indices of the element itself, which gives the position of the element in the matrix. Indices `p` and `q` are used:\n",
    "\n",
    "`HCIS[p, q]`\n",
    "\n",
    "Second, there are two sets of excitations from occupied to virtual orbitals corresponding to the bra and ket of each matrix element. For these, we will take advantage of the `excitations` list that we build with the list of all possible excitations. We will use indices i and a to denote the excitation in the bra (`left_excitation`) and j and b to denote the excitation in the ket (`right_excitation`). \n",
    "\n",
    "To manage these indices, we will use the `enumerate` function.\n",
    "Note that `first, second in enumerate(iterable)` takes an iterable and returns a counter / index to the first variable, and the values in the iterable to the second variable.\n",
    "\n",
    "Note that a Kronecker delta $\\delta_{pq}$ can be represented as p == q. \n",
    "\n",
    "\\begin{equation}\n",
    "\\langle s | \\langle \\Phi_i^a | \\hat{H_e} - E_0|\\Phi_j^b \\rangle | t \\rangle = \\left((\\epsilon_a - \\epsilon_i)\\delta_{ij} \\delta_{ab}\n",
    "+ \\langle aj || ib \\rangle \\right) \\delta_{st}.\n",
    "\\end{equation}\n",
    "The second term vanishes unless both the photonic and molecular bra and ket states are identical:\n",
    "\\begin{equation}\n",
    "\\langle s | \\langle \\Phi_i^a | \\hat{H}_p |\\Phi_j^b \\rangle | t \\rangle = \\delta_{st} \\delta_{ij} \\delta_{ab} \\left( \\hbar \\omega + i\\frac{\\gamma}{2}\\right)\\sqrt{s}.\n",
    "\\end{equation}\n",
    "The third term couples particular transitions between photonic and molecular bra and ket states:\n",
    "\\begin{equation}\n",
    "\\langle s | \\langle \\Phi_i^a | \\hat{H}_{ep}|\\Phi_j^b \\rangle | t \\rangle =\n",
    "\\left( 1 - \\delta_{st} \\right) \\left( g_{ab} \\delta_{ij} - g_{ij} \\delta_{ab} \\right)\n",
    "\\end{equation}\n"
   ]
  },
  {
   "cell_type": "code",
   "execution_count": 41,
   "metadata": {},
   "outputs": [],
   "source": [
    "# Form matrix elements of shifted CIS Hamiltonian\n",
    "for p, left_excitation in enumerate(excitations):\n",
    "    i, a, s = left_excitation\n",
    "    for q, right_excitation in enumerate(excitations):\n",
    "        j, b, t = right_excitation\n",
    "        H_mol = (eps[a] - eps[i]) * (i == j) * (a == b) * (s == t) + gmo[a, j, i, b] * (s == t)\n",
    "        H_phot = E_phot * np.sqrt(s) * (s == t) * (i == j) * (a == b)\n",
    "        H_mol_phot = (1 - (s == t)) * ( g[a,b] * (i == j) - g[i,j] * (a == b) )\n",
    "         \n",
    "        HCIS[p, q] = H_mol + H_phot + H_mol_phot"
   ]
  },
  {
   "cell_type": "markdown",
   "metadata": {},
   "source": [
    "We now use the NumPy function `linalg.eigh` (for hermitian matrices) to diagonalize the shifted CIS Hamiltonian. This will give us the excitation energies (`ECIS`). These eigenvalues correspond to the CIS total energies for various excited states. The columns of matrix `CCIS` give us the coefficients which describe the relative contribution of each singly excited determinant to the excitation energy. \n"
   ]
  },
  {
   "cell_type": "code",
   "execution_count": 43,
   "metadata": {},
   "outputs": [
    {
     "name": "stdout",
     "output_type": "stream",
     "text": [
      "[-1.01702158e-05 -1.01702158e-05 -1.01702158e-05  5.71632292e-02\n",
      "  5.71632292e-02  5.71632292e-02  1.20266102e-02  2.15586010e-02\n",
      "  2.15586010e-02  2.15586010e-02  5.00856123e-02  5.00856123e-02\n",
      "  3.80488319e-02  5.96045650e-02  1.39629757e-01  1.48296319e-01\n",
      "  1.48296319e-01  1.48296319e-01  1.71276688e-01  1.71276688e-01\n",
      "  1.42751900e-01  1.60673952e-01  1.68533997e-01  1.68533997e-01\n",
      "  1.68533997e-01  1.99920618e-01  1.78362662e-01  1.78362662e-01\n",
      "  1.00843645e-01  1.10366108e-01  1.01704412e-01  1.01704412e-01\n",
      "  1.30225159e-01  1.30225159e-01  1.30225159e-01  1.41025986e-01\n",
      "  1.10885272e-01  2.00440332e-01  2.01236864e-01  2.01236864e-01\n",
      "  2.01236864e-01  2.42137591e-01  2.50000376e-01  2.50000376e-01\n",
      "  1.57737678e-01  2.50001001e-01  9.96382393e-07  1.98646088e-01\n",
      " -3.19297771e-06 -3.19297771e-06  5.13508328e-02  9.13261275e-02\n",
      "  9.13261275e-02  9.13261275e-02  1.00689501e-01  1.25666351e-01\n",
      "  1.58682461e-01  1.58682461e-01  1.58682461e-01  2.50002899e-01\n",
      "  1.49313825e-01  1.49313825e-01  2.25027226e-01  2.50003731e-01\n",
      " -1.01647238e-05 -1.01647238e-05 -1.01647238e-05  5.24428383e-02\n",
      "  5.28102630e-02  5.28102630e-02  3.57259835e-04  3.95471116e-02\n",
      "  1.97194501e-01  1.97194501e-01  1.97194501e-01  2.49647504e-01\n",
      "  2.50005402e-01  2.50005402e-01  2.10815549e-01  2.50005403e-01]\n"
     ]
    }
   ],
   "source": [
    "# Diagonalize the shifted CIS Hamiltonian\n",
    "NH_ECIS, NH_CCIS = np.linalg.eigh(HCIS)\n",
    "print(NH_ECIS-ECIS)\n"
   ]
  },
  {
   "cell_type": "markdown",
   "metadata": {},
   "source": [
    "For a given excitation energy, each coefficent in the linear combination of excitations represents the amount that a particular excitation contributes to the overall excitation energy. The percentage contribution of each coefficient can be calculated by squaring the coefficent and multiplying by 100. "
   ]
  },
  {
   "cell_type": "code",
   "execution_count": 13,
   "metadata": {},
   "outputs": [],
   "source": [
    "# Percentage contributions of coefficients for each state vector\n",
    "percent_contrib = np.round(CCIS**2 * 100)"
   ]
  },
  {
   "cell_type": "markdown",
   "metadata": {},
   "source": [
    "In addition to excitation energies, we want to print the excitations that contribute 10% or more to the overall energy, as well as their percent contribution. \n",
    "\n",
    "Note that `end = ''` parameter in the print function allows us to print different sections to the same line without a line break."
   ]
  },
  {
   "cell_type": "code",
   "execution_count": 14,
   "metadata": {},
   "outputs": [
    {
     "name": "stdout",
     "output_type": "stream",
     "text": [
      "CIS:\n",
      "State   1 Energy (Eh)  0.2872554  100%  9 -> 10 \n",
      "State   2 Energy (Eh)  0.2872554  100%  8 -> 11 \n",
      "State   3 Energy (Eh)  0.2872554   50%  8 -> 10   50%  9 -> 11 \n",
      "State   4 Energy (Eh)  0.3444249   44%  6 -> 10   44%  7 -> 11 \n",
      "State   5 Energy (Eh)  0.3444249   45%  6 -> 11   44%  7 -> 10 \n",
      "State   6 Energy (Eh)  0.3444249   44%  6 -> 11   45%  7 -> 10 \n",
      "State   7 Energy (Eh)  0.3564617   50%  8 -> 10   50%  9 -> 11 \n",
      "State   8 Energy (Eh)  0.3659889   50%  8 -> 12   50%  9 -> 13 \n",
      "State   9 Energy (Eh)  0.3659889   93%  8 -> 13 \n",
      "State  10 Energy (Eh)  0.3659889   93%  9 -> 12 \n",
      "State  11 Energy (Eh)  0.3945137   20%  4 -> 10   20%  5 -> 11   30%  6 -> 12   30%  7 -> 13 \n",
      "State  12 Energy (Eh)  0.3945137   33%  4 -> 11   48%  6 -> 13   11%  7 -> 12 \n",
      "State  13 Energy (Eh)  0.3945137   33%  5 -> 10   11%  6 -> 13   48%  7 -> 12 \n",
      "State  14 Energy (Eh)  0.4160717   50%  8 -> 12   50%  9 -> 13 \n",
      "State  15 Energy (Eh)  0.5056282   44%  6 -> 10   44%  7 -> 11 \n",
      "State  16 Energy (Eh)  0.5142899   29%  4 -> 10   29%  5 -> 11   20%  6 -> 12   20%  7 -> 13 \n",
      "State  17 Energy (Eh)  0.5142899   52%  4 -> 11   37%  6 -> 13 \n",
      "State  18 Energy (Eh)  0.5142899   52%  5 -> 10   37%  7 -> 12 \n",
      "State  19 Energy (Eh)  0.5551918   15%  4 -> 10   15%  5 -> 11   35%  6 -> 12   35%  7 -> 13 \n",
      "State  20 Energy (Eh)  0.5630557   11%  4 -> 13   76%  5 -> 12 \n",
      "State  21 Energy (Eh)  0.5630557   76%  4 -> 13   11%  5 -> 12 \n",
      "State  22 Energy (Eh)  0.5630557   44%  4 -> 12   44%  5 -> 13 \n",
      "State  23 Energy (Eh)  0.6553184   35%  4 -> 10   35%  5 -> 11   15%  6 -> 12   15%  7 -> 13 \n",
      "State  24 Energy (Eh)  0.9101216   43%  4 -> 12   43%  5 -> 13 \n",
      "State  25 Energy (Eh)  1.1087709   83%  2 -> 11   14%  3 -> 10 \n",
      "State  26 Energy (Eh)  1.1087709   14%  2 -> 11   83%  3 -> 10 \n",
      "State  27 Energy (Eh)  1.1087709   49%  2 -> 10   49%  3 -> 11 \n",
      "State  28 Energy (Eh)  1.2000960   70%  2 -> 13   28%  3 -> 12 \n",
      "State  29 Energy (Eh)  1.2000960   49%  2 -> 12   49%  3 -> 13 \n",
      "State  30 Energy (Eh)  1.2000960   28%  2 -> 13   70%  3 -> 12 \n",
      "State  31 Energy (Eh)  1.3007851   48%  2 -> 10   48%  3 -> 11 \n",
      "State  32 Energy (Eh)  1.3257620   50%  2 -> 12   50%  3 -> 13 \n",
      "State  33 Energy (Eh) 19.9585264  100%  1 -> 10 \n",
      "State  34 Energy (Eh) 19.9585264   50%  0 -> 10   50%  1 -> 11 \n",
      "State  35 Energy (Eh) 19.9585264  100%  0 -> 11 \n",
      "State  36 Energy (Eh) 20.0109794   50%  0 -> 10   50%  1 -> 11 \n",
      "State  37 Energy (Eh) 20.0113420   36%  0 -> 13   63%  1 -> 12 \n",
      "State  38 Energy (Eh) 20.0113420   62%  0 -> 13   37%  1 -> 12 \n",
      "State  39 Energy (Eh) 20.0113420   49%  0 -> 12   49%  1 -> 13 \n",
      "State  40 Energy (Eh) 20.0505319   50%  0 -> 12   50%  1 -> 13 \n"
     ]
    }
   ],
   "source": [
    "# Print detailed information on significant excitations\n",
    "print('CIS:')\n",
    "for state in range(len(ECIS)):\n",
    "    # Print state, energy\n",
    "    print('State %3d Energy (Eh) %10.7f' % (state + 1, ECIS[state]), end=' ')\n",
    "    for idx, excitation in enumerate(excitations):\n",
    "        if percent_contrib[idx, state] > 10:\n",
    "            i, a = excitation\n",
    "            # Print percentage contribution and the excitation\n",
    "            print('%4d%% %2d -> %2d' % (percent_contrib[idx, state], i, a), end=' ')\n",
    "    print()"
   ]
  },
  {
   "cell_type": "markdown",
   "metadata": {
    "collapsed": true
   },
   "source": [
    "## References\n",
    "1. Background paper:\n",
    " >\"Toward a systematic molecular orbital theory for excited states\"\n",
    "[[Foresman:1992:96](http://pubs.acs.org/doi/abs/10.1021/j100180a030)] J. B. Foresman, M. Head-Gordon, J. A. Pople, M. J. Frisch, *J. Phys. Chem.* **96**, 135 (1992).\n",
    "\n",
    "\n",
    "2. Algorithms from: \n",
    "\t> [[CCQC:CIS](https://github.com/CCQC/summer-program/tree/master/7)] CCQC Summer Program, \"CIS\" accessed with https://github.com/CCQC/summer-program/tree/master/7.\n",
    "    "
   ]
  }
 ],
 "metadata": {
  "kernelspec": {
   "display_name": "Python 3",
   "language": "python",
   "name": "python3"
  },
  "language_info": {
   "codemirror_mode": {
    "name": "ipython",
    "version": 3
   },
   "file_extension": ".py",
   "mimetype": "text/x-python",
   "name": "python",
   "nbconvert_exporter": "python",
   "pygments_lexer": "ipython3",
   "version": "3.8.5"
  }
 },
 "nbformat": 4,
 "nbformat_minor": 2
}
